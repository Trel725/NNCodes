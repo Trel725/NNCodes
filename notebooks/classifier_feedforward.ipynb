{
 "cells": [
  {
   "cell_type": "markdown",
   "metadata": {},
   "source": [
    "## Feedforward NN classifier\n",
    "\n",
    "This example demonstrate basic work with tensorflow.keras models, how to build simple feed-forward NN classifier and use it to classify Raman spectra"
   ]
  },
  {
   "cell_type": "code",
   "execution_count": 1,
   "metadata": {},
   "outputs": [],
   "source": [
    "from tensorflow.keras.layers import *\n",
    "from tensorflow.keras.models import Model\n",
    "import pandas as pd\n",
    "from sklearn.model_selection import train_test_split\n",
    "from tensorflow.keras.utils import to_categorical\n",
    "import matplotlib.pyplot as plt"
   ]
  },
  {
   "cell_type": "markdown",
   "metadata": {},
   "source": [
    "Read the sample dataset. It contains four classes of Raman spectra. Class label is available in the last column."
   ]
  },
  {
   "cell_type": "code",
   "execution_count": 2,
   "metadata": {},
   "outputs": [],
   "source": [
    "data = pd.read_csv(\"../spectra.csv.gz\").values\n",
    "features = data[:,:-1] # take everything but last column\n",
    "labels = data[:,-1] # take last column"
   ]
  },
  {
   "cell_type": "markdown",
   "metadata": {},
   "source": [
    "Encode labels in one-hot encoding"
   ]
  },
  {
   "cell_type": "code",
   "execution_count": 3,
   "metadata": {},
   "outputs": [],
   "source": [
    "labels_oh = to_categorical(labels)"
   ]
  },
  {
   "cell_type": "markdown",
   "metadata": {},
   "source": [
    "Split the dataset into training and validation (here named test for brevity) subsets."
   ]
  },
  {
   "cell_type": "code",
   "execution_count": 4,
   "metadata": {},
   "outputs": [],
   "source": [
    "x_train, x_test, y_train, y_test = train_test_split(features, labels_oh, test_size=0.3)"
   ]
  },
  {
   "cell_type": "markdown",
   "metadata": {},
   "source": [
    "Plot couple of spectra to check that no error occured."
   ]
  },
  {
   "cell_type": "code",
   "execution_count": 5,
   "metadata": {},
   "outputs": [
    {
     "data": {
      "text/plain": [
       "[<matplotlib.lines.Line2D at 0x7f3b1f84ba58>]"
      ]
     },
     "execution_count": 5,
     "metadata": {},
     "output_type": "execute_result"
    },
    {
     "data": {
      "image/png": "[encoded data removed]",
      "text/plain": [
       "<Figure size 432x288 with 1 Axes>"
      ]
     },
     "metadata": {
      "needs_background": "light"
     },
     "output_type": "display_data"
    }
   ],
   "source": [
    "plt.plot(x_train[0])\n",
    "plt.plot(x_test[0])\n"
   ]
  },
  {
   "cell_type": "markdown",
   "metadata": {},
   "source": [
    "Now define important constants"
   ]
  },
  {
   "cell_type": "code",
   "execution_count": 6,
   "metadata": {},
   "outputs": [],
   "source": [
    "inp_dim = x_train.shape[1]\n",
    "out_dim = y_train.shape[1]"
   ]
  },
  {
   "cell_type": "markdown",
   "metadata": {},
   "source": [
    "And define the model. Module tensorflow.keras provides a convinent way for model definition by passing output of one layer as input to another."
   ]
  },
  {
   "cell_type": "code",
   "execution_count": 7,
   "metadata": {},
   "outputs": [],
   "source": [
    "inp = Input(shape=(inp_dim,))\n",
    "l = Dense(50, activation=\"relu\")(inp)\n",
    "l = Dense(25, activation=\"relu\")(l)\n",
    "out = Dense(out_dim, activation=\"softmax\")(l)"
   ]
  },
  {
   "cell_type": "markdown",
   "metadata": {},
   "source": [
    "Now create the classifier model, and compile it using crossentropy loss and adam optimizer."
   ]
  },
  {
   "cell_type": "code",
   "execution_count": 8,
   "metadata": {},
   "outputs": [
    {
     "name": "stdout",
     "output_type": "stream",
     "text": [
      "Model: \"model\"\n",
      "_________________________________________________________________\n",
      "Layer (type)                 Output Shape              Param #   \n",
      "=================================================================\n",
      "input_1 (InputLayer)         [(None, 2090)]            0         \n",
      "_________________________________________________________________\n",
      "dense (Dense)                (None, 50)                104550    \n",
      "_________________________________________________________________\n",
      "dense_1 (Dense)              (None, 25)                1275      \n",
      "_________________________________________________________________\n",
      "dense_2 (Dense)              (None, 4)                 104       \n",
      "=================================================================\n",
      "Total params: 105,929\n",
      "Trainable params: 105,929\n",
      "Non-trainable params: 0\n",
      "_________________________________________________________________\n"
     ]
    }
   ],
   "source": [
    "classifier = Model(inp, out)\n",
    "classifier.compile(loss=\"categorical_crossentropy\", optimizer=\"adam\", metrics=[\"accuracy\"])\n",
    "classifier.summary()"
   ]
  },
  {
   "cell_type": "markdown",
   "metadata": {},
   "source": [
    "Now when we have training and validation datasets and model, we can start training."
   ]
  },
  {
   "cell_type": "code",
   "execution_count": 9,
   "metadata": {},
   "outputs": [
    {
     "name": "stdout",
     "output_type": "stream",
     "text": [
      "Train on 971 samples, validate on 417 samples\n",
      "Epoch 1/20\n",
      "971/971 [==============================] - 0s 400us/sample - loss: 1.0583 - accuracy: 0.6334 - val_loss: 0.6525 - val_accuracy: 0.9400\n",
      "Epoch 2/20\n",
      "971/971 [==============================] - 0s 42us/sample - loss: 0.4689 - accuracy: 0.9846 - val_loss: 0.2610 - val_accuracy: 0.9904\n",
      "Epoch 3/20\n",
      "971/971 [==============================] - 0s 42us/sample - loss: 0.1714 - accuracy: 0.9990 - val_loss: 0.1075 - val_accuracy: 0.9928\n",
      "Epoch 4/20\n",
      "971/971 [==============================] - 0s 42us/sample - loss: 0.0736 - accuracy: 0.9990 - val_loss: 0.0598 - val_accuracy: 0.9904\n",
      "Epoch 5/20\n",
      "971/971 [==============================] - 0s 43us/sample - loss: 0.0404 - accuracy: 0.9990 - val_loss: 0.0400 - val_accuracy: 0.9904\n",
      "Epoch 6/20\n",
      "971/971 [==============================] - 0s 43us/sample - loss: 0.0278 - accuracy: 0.9979 - val_loss: 0.0315 - val_accuracy: 0.9904\n",
      "Epoch 7/20\n",
      "971/971 [==============================] - 0s 43us/sample - loss: 0.0194 - accuracy: 1.0000 - val_loss: 0.0265 - val_accuracy: 0.9904\n",
      "Epoch 8/20\n",
      "971/971 [==============================] - 0s 42us/sample - loss: 0.0152 - accuracy: 1.0000 - val_loss: 0.0223 - val_accuracy: 0.9928\n",
      "Epoch 9/20\n",
      "971/971 [==============================] - 0s 43us/sample - loss: 0.0128 - accuracy: 1.0000 - val_loss: 0.0195 - val_accuracy: 0.9928\n",
      "Epoch 10/20\n",
      "971/971 [==============================] - 0s 42us/sample - loss: 0.0107 - accuracy: 1.0000 - val_loss: 0.0194 - val_accuracy: 0.9952\n",
      "Epoch 11/20\n",
      "971/971 [==============================] - 0s 43us/sample - loss: 0.0098 - accuracy: 1.0000 - val_loss: 0.0159 - val_accuracy: 0.9928\n",
      "Epoch 12/20\n",
      "971/971 [==============================] - 0s 44us/sample - loss: 0.0079 - accuracy: 1.0000 - val_loss: 0.0150 - val_accuracy: 0.9928\n",
      "Epoch 13/20\n",
      "971/971 [==============================] - 0s 43us/sample - loss: 0.0070 - accuracy: 1.0000 - val_loss: 0.0133 - val_accuracy: 0.9952\n",
      "Epoch 14/20\n",
      "971/971 [==============================] - 0s 45us/sample - loss: 0.0065 - accuracy: 1.0000 - val_loss: 0.0136 - val_accuracy: 0.9952\n",
      "Epoch 15/20\n",
      "971/971 [==============================] - 0s 43us/sample - loss: 0.0054 - accuracy: 1.0000 - val_loss: 0.0117 - val_accuracy: 0.9928\n",
      "Epoch 16/20\n",
      "971/971 [==============================] - 0s 44us/sample - loss: 0.0045 - accuracy: 1.0000 - val_loss: 0.0105 - val_accuracy: 0.9928\n",
      "Epoch 17/20\n",
      "971/971 [==============================] - 0s 43us/sample - loss: 0.0040 - accuracy: 1.0000 - val_loss: 0.0106 - val_accuracy: 0.9952\n",
      "Epoch 18/20\n",
      "971/971 [==============================] - 0s 45us/sample - loss: 0.0037 - accuracy: 1.0000 - val_loss: 0.0093 - val_accuracy: 0.9976\n",
      "Epoch 19/20\n",
      "971/971 [==============================] - 0s 44us/sample - loss: 0.0034 - accuracy: 1.0000 - val_loss: 0.0088 - val_accuracy: 0.9976\n",
      "Epoch 20/20\n",
      "971/971 [==============================] - 0s 42us/sample - loss: 0.0032 - accuracy: 1.0000 - val_loss: 0.0081 - val_accuracy: 1.0000\n"
     ]
    }
   ],
   "source": [
    "train_history = classifier.fit(x=x_train, y=y_train, batch_size=64, epochs=20, validation_data=[x_test, y_test])"
   ]
  },
  {
   "cell_type": "markdown",
   "metadata": {},
   "source": [
    "Model fastly converges to 100% classification accuracy. Finally, plot the training history"
   ]
  },
  {
   "cell_type": "code",
   "execution_count": 10,
   "metadata": {},
   "outputs": [
    {
     "data": {
      "text/plain": [
       "<matplotlib.legend.Legend at 0x7f3b0c420828>"
      ]
     },
     "execution_count": 10,
     "metadata": {},
     "output_type": "execute_result"
    },
    {
     "data": {
      "image/png": "[encoded data removed]",
      "text/plain": [
       "<Figure size 432x288 with 1 Axes>"
      ]
     },
     "metadata": {
      "needs_background": "light"
     },
     "output_type": "display_data"
    }
   ],
   "source": [
    "plt.plot(train_history.history['loss'], \"-o\", label=\"Loss\")\n",
    "plt.plot(train_history.history['val_loss'], \"-o\", label=\"Validation loss\")\n",
    "plt.plot(train_history.history['accuracy'], \"-o\", label=\"Accuracy\")\n",
    "plt.plot(train_history.history['val_accuracy'], \"-o\", label=\"Validation accuracy\")\n",
    "plt.xlabel(\"Epoch\")\n",
    "plt.legend()"
   ]
  }
 ],
 "metadata": {
  "kernelspec": {
   "display_name": "Python 3",
   "language": "python",
   "name": "python3"
  },
  "language_info": {
   "codemirror_mode": {
    "name": "ipython",
    "version": 3
   },
   "file_extension": ".py",
   "mimetype": "text/x-python",
   "name": "python",
   "nbconvert_exporter": "python",
   "pygments_lexer": "ipython3",
   "version": "3.7.3"
  }
 },
 "nbformat": 4,
 "nbformat_minor": 2
}
