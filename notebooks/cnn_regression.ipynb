{
 "cells": [
  {
   "cell_type": "markdown",
   "metadata": {},
   "source": [
    "## CNN regression\n",
    "\n",
    "This example demonstrates deep regression on the sample spectral data"
   ]
  },
  {
   "cell_type": "code",
   "execution_count": 1,
   "metadata": {},
   "outputs": [],
   "source": [
    "import tensorflow as tf\n",
    "from tensorflow.keras.layers import *\n",
    "from tensorflow.keras.models import Model\n",
    "from tensorflow.keras.optimizers import *\n",
    "\n",
    "import numpy as np\n",
    "import pandas as pd\n",
    "import matplotlib.pyplot as plt\n",
    "from sklearn.model_selection import train_test_split\n",
    "from sklearn.metrics import r2_score"
   ]
  },
  {
   "cell_type": "markdown",
   "metadata": {},
   "source": [
    "Enable memory growth for GPU, it is needed on some systems for convolution to work."
   ]
  },
  {
   "cell_type": "code",
   "execution_count": 2,
   "metadata": {},
   "outputs": [],
   "source": [
    "gpus = tf.config.experimental.list_physical_devices('GPU')\n",
    "if gpus:\n",
    "    for gpu in gpus:\n",
    "        tf.config.experimental.set_memory_growth(gpu, True)"
   ]
  },
  {
   "cell_type": "markdown",
   "metadata": {},
   "source": [
    "Dataset, used in this example is unnormalized, while NN requires normalized input. We will perform normalization to the range $[0,1]$ by subtracting minimum value and dividing by maximum."
   ]
  },
  {
   "cell_type": "code",
   "execution_count": 3,
   "metadata": {},
   "outputs": [],
   "source": [
    "def norm_func(x, a=0, b=1):\n",
    "    return ((b - a) * (x - min(x))) / (max(x) - min(x)) + a\n",
    "\n",
    "\n",
    "def normalize(x, y=None):\n",
    "    x = np.apply_along_axis(norm_func, axis=1, arr=x)\n",
    "    mask = ~np.isnan(x).any(axis=1)\n",
    "    if y is not None:\n",
    "        return x[mask], y[mask]\n",
    "    else:\n",
    "        return x[mask]\n"
   ]
  },
  {
   "cell_type": "markdown",
   "metadata": {},
   "source": [
    "Load the dataset, containing surface-enhanced Raman spectra, collected in different laboratories using various methods (https://zenodo.org/record/3572359)."
   ]
  },
  {
   "cell_type": "code",
   "execution_count": 4,
   "metadata": {},
   "outputs": [],
   "source": [
    "data = pd.read_csv(\"../ILSdata.csv\")"
   ]
  },
  {
   "cell_type": "markdown",
   "metadata": {},
   "source": [
    "We will use concentration as a target variable. Others are not interesting, so we will drop them."
   ]
  },
  {
   "cell_type": "code",
   "execution_count": 5,
   "metadata": {},
   "outputs": [],
   "source": [
    "X = data.drop(['labcode', 'substrate', 'laser', 'method', 'sample', 'type', 'conc',\n",
    "       'batch', 'replica'], axis=1)\n",
    "X = X.values\n",
    "Y = data['conc'].values"
   ]
  },
  {
   "cell_type": "markdown",
   "metadata": {},
   "source": [
    "Normalize obtained data and split it into training and validation subsets"
   ]
  },
  {
   "cell_type": "code",
   "execution_count": 6,
   "metadata": {},
   "outputs": [],
   "source": [
    "X, Y = normalize(X, Y)\n",
    "x_train, x_test, y_train, y_test = train_test_split(X, Y, test_size=0.2, random_state=42)\n"
   ]
  },
  {
   "cell_type": "markdown",
   "metadata": {},
   "source": [
    "Have a look at the normalized spectra. We will not correct background and lean on the convolutional model."
   ]
  },
  {
   "cell_type": "code",
   "execution_count": 7,
   "metadata": {},
   "outputs": [
    {
     "data": {
      "text/plain": [
       "[<matplotlib.lines.Line2D at 0x7f27a00826d8>]"
      ]
     },
     "execution_count": 7,
     "metadata": {},
     "output_type": "execute_result"
    },
    {
     "data": {
      "image/png": "[encoded data removed]",
      "text/plain": [
       "<Figure size 432x288 with 1 Axes>"
      ]
     },
     "metadata": {
      "needs_background": "light"
     },
     "output_type": "display_data"
    }
   ],
   "source": [
    "plt.plot(x_train[0])"
   ]
  },
  {
   "cell_type": "markdown",
   "metadata": {},
   "source": [
    "Define the constants: dimensionality of input data, leaking coefficient for leaky relu activation and dropout probability:"
   ]
  },
  {
   "cell_type": "code",
   "execution_count": 8,
   "metadata": {},
   "outputs": [],
   "source": [
    "inp_dim = x_train.shape[1]\n",
    "alpha=0.1\n",
    "k=0.5\n"
   ]
  },
  {
   "cell_type": "markdown",
   "metadata": {},
   "source": [
    "Define convolutional model with leaky relu activation function and batch normalization in between convolutional layers. Last layer uses relu activation, because only positive concentrations are sensible. Data may contain outliers, thus robust Huber loss is used. Since Huber loss may destabilize training, learning rate decay is added to the adam optimizer."
   ]
  },
  {
   "cell_type": "code",
   "execution_count": 9,
   "metadata": {},
   "outputs": [
    {
     "name": "stdout",
     "output_type": "stream",
     "text": [
      "Model: \"model\"\n",
      "_________________________________________________________________\n",
      "Layer (type)                 Output Shape              Param #   \n",
      "=================================================================\n",
      "input_1 (InputLayer)         [(None, 534, 1)]          0         \n",
      "_________________________________________________________________\n",
      "conv1d (Conv1D)              (None, 520, 2)            32        \n",
      "_________________________________________________________________\n",
      "batch_normalization (BatchNo (None, 520, 2)            8         \n",
      "_________________________________________________________________\n",
      "leaky_re_lu (LeakyReLU)      (None, 520, 2)            0         \n",
      "_________________________________________________________________\n",
      "max_pooling1d (MaxPooling1D) (None, 260, 2)            0         \n",
      "_________________________________________________________________\n",
      "conv1d_1 (Conv1D)            (None, 231, 2)            122       \n",
      "_________________________________________________________________\n",
      "batch_normalization_1 (Batch (None, 231, 2)            8         \n",
      "_________________________________________________________________\n",
      "leaky_re_lu_1 (LeakyReLU)    (None, 231, 2)            0         \n",
      "_________________________________________________________________\n",
      "flatten (Flatten)            (None, 462)               0         \n",
      "_________________________________________________________________\n",
      "dropout (Dropout)            (None, 462)               0         \n",
      "_________________________________________________________________\n",
      "dense (Dense)                (None, 100)               46300     \n",
      "_________________________________________________________________\n",
      "leaky_re_lu_2 (LeakyReLU)    (None, 100)               0         \n",
      "_________________________________________________________________\n",
      "dropout_1 (Dropout)          (None, 100)               0         \n",
      "_________________________________________________________________\n",
      "dense_1 (Dense)              (None, 50)                5050      \n",
      "_________________________________________________________________\n",
      "leaky_re_lu_3 (LeakyReLU)    (None, 50)                0         \n",
      "_________________________________________________________________\n",
      "dense_2 (Dense)              (None, 1)                 51        \n",
      "=================================================================\n",
      "Total params: 51,571\n",
      "Trainable params: 51,563\n",
      "Non-trainable params: 8\n",
      "_________________________________________________________________\n"
     ]
    }
   ],
   "source": [
    "inp = Input(shape=(inp_dim,1))\n",
    "\n",
    "x = Conv1D(2, 15)(inp)\n",
    "x = BatchNormalization()(x)\n",
    "x = LeakyReLU(alpha)(x)\n",
    "x = MaxPool1D(2)(x)\n",
    "\n",
    "x = Conv1D(2, 30)(x)\n",
    "x = BatchNormalization()(x)\n",
    "x = LeakyReLU(alpha)(x)\n",
    "\n",
    "x = Flatten()(x)\n",
    "\n",
    "x = Dropout(k)(x)\n",
    "x = Dense(100, activation=\"linear\")(x)\n",
    "x = LeakyReLU(alpha)(x)\n",
    "\n",
    "x = Dropout(k)(x)\n",
    "x = Dense(50, activation=\"linear\")(x)\n",
    "x = LeakyReLU(alpha)(x)\n",
    "\n",
    "out = Dense(1, activation=\"relu\")(x)\n",
    "\n",
    "model = Model(inp, out)\n",
    "model.compile(loss=tf.keras.losses.Huber(0.3), optimizer=Adam(lr=1e-3, decay=1e-5))\n",
    "model.summary()"
   ]
  },
  {
   "cell_type": "markdown",
   "metadata": {},
   "source": [
    "Add channel dimension to the spectra"
   ]
  },
  {
   "cell_type": "code",
   "execution_count": 10,
   "metadata": {},
   "outputs": [],
   "source": [
    "x_train  = x_train[:,:,np.newaxis]\n",
    "x_test  = x_test[:,:,np.newaxis]"
   ]
  },
  {
   "cell_type": "markdown",
   "metadata": {},
   "source": [
    "And fit the model:"
   ]
  },
  {
   "cell_type": "code",
   "execution_count": 11,
   "metadata": {},
   "outputs": [
    {
     "name": "stdout",
     "output_type": "stream",
     "text": [
      "Train on 2668 samples, validate on 668 samples\n",
      "Epoch 1/150\n",
      "2668/2668 [==============================] - 2s 692us/sample - loss: 0.5026 - val_loss: 0.7538\n",
      "Epoch 2/150\n",
      "2668/2668 [==============================] - 0s 114us/sample - loss: 0.4342 - val_loss: 0.5623\n",
      "Epoch 3/150\n",
      "2668/2668 [==============================] - 0s 109us/sample - loss: 0.4124 - val_loss: 0.5122\n",
      "Epoch 4/150\n",
      "2668/2668 [==============================] - 0s 109us/sample - loss: 0.3970 - val_loss: 0.5481\n",
      "Epoch 5/150\n",
      "2668/2668 [==============================] - 0s 115us/sample - loss: 0.3836 - val_loss: 0.4898\n",
      "Epoch 6/150\n",
      "2668/2668 [==============================] - 0s 109us/sample - loss: 0.3836 - val_loss: 0.4063\n",
      "Epoch 7/150\n",
      "2668/2668 [==============================] - 0s 108us/sample - loss: 0.3734 - val_loss: 0.4396\n",
      "Epoch 8/150\n",
      "2668/2668 [==============================] - 0s 111us/sample - loss: 0.3738 - val_loss: 0.3917\n",
      "Epoch 9/150\n",
      "2668/2668 [==============================] - 0s 108us/sample - loss: 0.3575 - val_loss: 0.3871\n",
      "Epoch 10/150\n",
      "2668/2668 [==============================] - 0s 110us/sample - loss: 0.3452 - val_loss: 0.3895\n",
      "Epoch 11/150\n",
      "2668/2668 [==============================] - 0s 112us/sample - loss: 0.3484 - val_loss: 0.3038\n",
      "Epoch 12/150\n",
      "2668/2668 [==============================] - 0s 104us/sample - loss: 0.3395 - val_loss: 0.3589\n",
      "Epoch 13/150\n",
      "2668/2668 [==============================] - 0s 111us/sample - loss: 0.3335 - val_loss: 0.2973\n",
      "Epoch 14/150\n",
      "2668/2668 [==============================] - 0s 108us/sample - loss: 0.3325 - val_loss: 0.2838\n",
      "Epoch 15/150\n",
      "2668/2668 [==============================] - 0s 105us/sample - loss: 0.3327 - val_loss: 0.3391\n",
      "Epoch 16/150\n",
      "2668/2668 [==============================] - 0s 111us/sample - loss: 0.3209 - val_loss: 0.3324\n",
      "Epoch 17/150\n",
      "2668/2668 [==============================] - 0s 108us/sample - loss: 0.3145 - val_loss: 0.3191\n",
      "Epoch 18/150\n",
      "2668/2668 [==============================] - 0s 107us/sample - loss: 0.3101 - val_loss: 0.3137\n",
      "Epoch 19/150\n",
      "2668/2668 [==============================] - 0s 113us/sample - loss: 0.3011 - val_loss: 0.2568\n",
      "Epoch 20/150\n",
      "2668/2668 [==============================] - 0s 113us/sample - loss: 0.3039 - val_loss: 0.2509\n",
      "Epoch 21/150\n",
      "2668/2668 [==============================] - 0s 111us/sample - loss: 0.3101 - val_loss: 0.2986\n",
      "Epoch 22/150\n",
      "2668/2668 [==============================] - 0s 110us/sample - loss: 0.3132 - val_loss: 0.2467\n",
      "Epoch 23/150\n",
      "2668/2668 [==============================] - 0s 111us/sample - loss: 0.3002 - val_loss: 0.2516\n",
      "Epoch 24/150\n",
      "2668/2668 [==============================] - 0s 111us/sample - loss: 0.3013 - val_loss: 0.3008\n",
      "Epoch 25/150\n",
      "2668/2668 [==============================] - 0s 109us/sample - loss: 0.2943 - val_loss: 0.4210\n",
      "Epoch 26/150\n",
      "2668/2668 [==============================] - 0s 112us/sample - loss: 0.2991 - val_loss: 0.2557\n",
      "Epoch 27/150\n",
      "2668/2668 [==============================] - 0s 117us/sample - loss: 0.2974 - val_loss: 0.3268\n",
      "Epoch 28/150\n",
      "2668/2668 [==============================] - 0s 110us/sample - loss: 0.3001 - val_loss: 0.2411\n",
      "Epoch 29/150\n",
      "2668/2668 [==============================] - 0s 109us/sample - loss: 0.3030 - val_loss: 0.2761\n",
      "Epoch 30/150\n",
      "2668/2668 [==============================] - 0s 110us/sample - loss: 0.2846 - val_loss: 0.2391\n",
      "Epoch 31/150\n",
      "2668/2668 [==============================] - 0s 111us/sample - loss: 0.2916 - val_loss: 0.2364\n",
      "Epoch 32/150\n",
      "2668/2668 [==============================] - 0s 107us/sample - loss: 0.2789 - val_loss: 0.2523\n",
      "Epoch 33/150\n",
      "2668/2668 [==============================] - 0s 110us/sample - loss: 0.2861 - val_loss: 0.2485\n",
      "Epoch 34/150\n",
      "2668/2668 [==============================] - 0s 113us/sample - loss: 0.2759 - val_loss: 0.2317\n",
      "Epoch 35/150\n",
      "2668/2668 [==============================] - 0s 109us/sample - loss: 0.2797 - val_loss: 0.2203\n",
      "Epoch 36/150\n",
      "2668/2668 [==============================] - 0s 111us/sample - loss: 0.2780 - val_loss: 0.3063\n",
      "Epoch 37/150\n",
      "2668/2668 [==============================] - 0s 110us/sample - loss: 0.2824 - val_loss: 0.2327\n",
      "Epoch 38/150\n",
      "2668/2668 [==============================] - 0s 109us/sample - loss: 0.2762 - val_loss: 0.2219\n",
      "Epoch 39/150\n",
      "2668/2668 [==============================] - 0s 104us/sample - loss: 0.2707 - val_loss: 0.2267\n",
      "Epoch 40/150\n",
      "2668/2668 [==============================] - 0s 111us/sample - loss: 0.2756 - val_loss: 0.2664\n",
      "Epoch 41/150\n",
      "2668/2668 [==============================] - 0s 114us/sample - loss: 0.2734 - val_loss: 0.2302\n",
      "Epoch 42/150\n",
      "2668/2668 [==============================] - 0s 115us/sample - loss: 0.2767 - val_loss: 0.2558\n",
      "Epoch 43/150\n",
      "2668/2668 [==============================] - 0s 107us/sample - loss: 0.2648 - val_loss: 0.2642\n",
      "Epoch 44/150\n",
      "2668/2668 [==============================] - 0s 111us/sample - loss: 0.2754 - val_loss: 0.2207\n",
      "Epoch 45/150\n",
      "2668/2668 [==============================] - 0s 109us/sample - loss: 0.2642 - val_loss: 0.2476\n",
      "Epoch 46/150\n",
      "2668/2668 [==============================] - 0s 115us/sample - loss: 0.2567 - val_loss: 0.2159\n",
      "Epoch 47/150\n",
      "2668/2668 [==============================] - 0s 116us/sample - loss: 0.2652 - val_loss: 0.2556\n",
      "Epoch 48/150\n",
      "2668/2668 [==============================] - 0s 111us/sample - loss: 0.2641 - val_loss: 0.2404\n",
      "Epoch 49/150\n",
      "2668/2668 [==============================] - 0s 108us/sample - loss: 0.2656 - val_loss: 0.2077\n",
      "Epoch 50/150\n",
      "2668/2668 [==============================] - 0s 110us/sample - loss: 0.2632 - val_loss: 0.2148\n",
      "Epoch 51/150\n",
      "2668/2668 [==============================] - 0s 109us/sample - loss: 0.2631 - val_loss: 0.2344\n",
      "Epoch 52/150\n",
      "2668/2668 [==============================] - 0s 114us/sample - loss: 0.2637 - val_loss: 0.2270\n",
      "Epoch 53/150\n",
      "2668/2668 [==============================] - 0s 114us/sample - loss: 0.2518 - val_loss: 0.2359\n",
      "Epoch 54/150\n",
      "2668/2668 [==============================] - 0s 110us/sample - loss: 0.2570 - val_loss: 0.2177\n",
      "Epoch 55/150\n",
      "2668/2668 [==============================] - 0s 112us/sample - loss: 0.2603 - val_loss: 0.2125\n",
      "Epoch 56/150\n",
      "2668/2668 [==============================] - 0s 112us/sample - loss: 0.2630 - val_loss: 0.2854\n",
      "Epoch 57/150\n",
      "2668/2668 [==============================] - 0s 114us/sample - loss: 0.2667 - val_loss: 0.2204\n",
      "Epoch 58/150\n",
      "2668/2668 [==============================] - 0s 110us/sample - loss: 0.2541 - val_loss: 0.2145\n",
      "Epoch 59/150\n",
      "2668/2668 [==============================] - 0s 109us/sample - loss: 0.2517 - val_loss: 0.2133\n",
      "Epoch 60/150\n",
      "2668/2668 [==============================] - 0s 113us/sample - loss: 0.2465 - val_loss: 0.2351\n",
      "Epoch 61/150\n",
      "2668/2668 [==============================] - 0s 111us/sample - loss: 0.2524 - val_loss: 0.2274\n",
      "Epoch 62/150\n",
      "2668/2668 [==============================] - 0s 110us/sample - loss: 0.2531 - val_loss: 0.2364\n",
      "Epoch 63/150\n",
      "2668/2668 [==============================] - 0s 107us/sample - loss: 0.2507 - val_loss: 0.1969\n",
      "Epoch 64/150\n",
      "2668/2668 [==============================] - 0s 109us/sample - loss: 0.2447 - val_loss: 0.2017\n",
      "Epoch 65/150\n",
      "2668/2668 [==============================] - 0s 110us/sample - loss: 0.2512 - val_loss: 0.2455\n",
      "Epoch 66/150\n",
      "2668/2668 [==============================] - 0s 109us/sample - loss: 0.2484 - val_loss: 0.2258\n",
      "Epoch 67/150\n",
      "2668/2668 [==============================] - 0s 113us/sample - loss: 0.2448 - val_loss: 0.2641\n",
      "Epoch 68/150\n",
      "2668/2668 [==============================] - 0s 106us/sample - loss: 0.2452 - val_loss: 0.2080\n",
      "Epoch 69/150\n",
      "2668/2668 [==============================] - 0s 107us/sample - loss: 0.2478 - val_loss: 0.2100\n",
      "Epoch 70/150\n",
      "2668/2668 [==============================] - 0s 110us/sample - loss: 0.2406 - val_loss: 0.1984\n",
      "Epoch 71/150\n",
      "2668/2668 [==============================] - 0s 111us/sample - loss: 0.2418 - val_loss: 0.2075\n",
      "Epoch 72/150\n",
      "2668/2668 [==============================] - 0s 112us/sample - loss: 0.2480 - val_loss: 0.2127\n",
      "Epoch 73/150\n",
      "2668/2668 [==============================] - 0s 111us/sample - loss: 0.2488 - val_loss: 0.2087\n",
      "Epoch 74/150\n",
      "2668/2668 [==============================] - 0s 112us/sample - loss: 0.2420 - val_loss: 0.2127\n",
      "Epoch 75/150\n",
      "2668/2668 [==============================] - 0s 111us/sample - loss: 0.2450 - val_loss: 0.2098\n",
      "Epoch 76/150\n",
      "2668/2668 [==============================] - 0s 109us/sample - loss: 0.2480 - val_loss: 0.2126\n",
      "Epoch 77/150\n",
      "2668/2668 [==============================] - 0s 106us/sample - loss: 0.2442 - val_loss: 0.1993\n",
      "Epoch 78/150\n",
      "2668/2668 [==============================] - 0s 108us/sample - loss: 0.2439 - val_loss: 0.2311\n",
      "Epoch 79/150\n",
      "2668/2668 [==============================] - 0s 113us/sample - loss: 0.2400 - val_loss: 0.2179\n",
      "Epoch 80/150\n",
      "2668/2668 [==============================] - 0s 110us/sample - loss: 0.2426 - val_loss: 0.2094\n",
      "Epoch 81/150\n",
      "2668/2668 [==============================] - 0s 109us/sample - loss: 0.2425 - val_loss: 0.2092\n",
      "Epoch 82/150\n",
      "2668/2668 [==============================] - 0s 114us/sample - loss: 0.2435 - val_loss: 0.2032\n",
      "Epoch 83/150\n",
      "2668/2668 [==============================] - 0s 111us/sample - loss: 0.2375 - val_loss: 0.2062\n",
      "Epoch 84/150\n",
      "2668/2668 [==============================] - 0s 109us/sample - loss: 0.2369 - val_loss: 0.2177\n",
      "Epoch 85/150\n",
      "2668/2668 [==============================] - 0s 110us/sample - loss: 0.2376 - val_loss: 0.2069\n",
      "Epoch 86/150\n",
      "2668/2668 [==============================] - 0s 113us/sample - loss: 0.2434 - val_loss: 0.2234\n",
      "Epoch 87/150\n",
      "2668/2668 [==============================] - 0s 107us/sample - loss: 0.2383 - val_loss: 0.2215\n",
      "Epoch 88/150\n",
      "2668/2668 [==============================] - 0s 109us/sample - loss: 0.2393 - val_loss: 0.1972\n",
      "Epoch 89/150\n",
      "2668/2668 [==============================] - 0s 110us/sample - loss: 0.2435 - val_loss: 0.2000\n",
      "Epoch 90/150\n",
      "2668/2668 [==============================] - 0s 111us/sample - loss: 0.2341 - val_loss: 0.2031\n",
      "Epoch 91/150\n",
      "2668/2668 [==============================] - 0s 110us/sample - loss: 0.2432 - val_loss: 0.2108\n",
      "Epoch 92/150\n",
      "2668/2668 [==============================] - 0s 109us/sample - loss: 0.2390 - val_loss: 0.2066\n",
      "Epoch 93/150\n",
      "2668/2668 [==============================] - 0s 113us/sample - loss: 0.2342 - val_loss: 0.2108\n",
      "Epoch 94/150\n",
      "2668/2668 [==============================] - 0s 112us/sample - loss: 0.2331 - val_loss: 0.2211\n",
      "Epoch 95/150\n",
      "2668/2668 [==============================] - 0s 114us/sample - loss: 0.2396 - val_loss: 0.2065\n",
      "Epoch 96/150\n",
      "2668/2668 [==============================] - 0s 115us/sample - loss: 0.2372 - val_loss: 0.2041\n",
      "Epoch 97/150\n",
      "2668/2668 [==============================] - 0s 106us/sample - loss: 0.2333 - val_loss: 0.1919\n",
      "Epoch 98/150\n",
      "2668/2668 [==============================] - 0s 108us/sample - loss: 0.2349 - val_loss: 0.2075\n",
      "Epoch 99/150\n",
      "2668/2668 [==============================] - 0s 110us/sample - loss: 0.2285 - val_loss: 0.1967\n",
      "Epoch 100/150\n",
      "2668/2668 [==============================] - 0s 108us/sample - loss: 0.2282 - val_loss: 0.2073\n",
      "Epoch 101/150\n",
      "2668/2668 [==============================] - 0s 112us/sample - loss: 0.2333 - val_loss: 0.1960\n",
      "Epoch 102/150\n",
      "2668/2668 [==============================] - 0s 112us/sample - loss: 0.2305 - val_loss: 0.2110\n",
      "Epoch 103/150\n",
      "2668/2668 [==============================] - 0s 108us/sample - loss: 0.2308 - val_loss: 0.2175\n",
      "Epoch 104/150\n",
      "2668/2668 [==============================] - 0s 112us/sample - loss: 0.2423 - val_loss: 0.2038\n",
      "Epoch 105/150\n",
      "2668/2668 [==============================] - 0s 112us/sample - loss: 0.2294 - val_loss: 0.1974\n",
      "Epoch 106/150\n",
      "2668/2668 [==============================] - 0s 109us/sample - loss: 0.2317 - val_loss: 0.2157\n",
      "Epoch 107/150\n",
      "2668/2668 [==============================] - 0s 114us/sample - loss: 0.2281 - val_loss: 0.1946\n",
      "Epoch 108/150\n",
      "2668/2668 [==============================] - 0s 113us/sample - loss: 0.2320 - val_loss: 0.2079\n",
      "Epoch 109/150\n",
      "2668/2668 [==============================] - 0s 112us/sample - loss: 0.2353 - val_loss: 0.2171\n",
      "Epoch 110/150\n",
      "2668/2668 [==============================] - 0s 111us/sample - loss: 0.2282 - val_loss: 0.2001\n",
      "Epoch 111/150\n",
      "2668/2668 [==============================] - 0s 110us/sample - loss: 0.2264 - val_loss: 0.2154\n",
      "Epoch 112/150\n",
      "2668/2668 [==============================] - 0s 110us/sample - loss: 0.2235 - val_loss: 0.1874\n",
      "Epoch 113/150\n",
      "2668/2668 [==============================] - 0s 114us/sample - loss: 0.2282 - val_loss: 0.2686\n",
      "Epoch 114/150\n",
      "2668/2668 [==============================] - 0s 112us/sample - loss: 0.2257 - val_loss: 0.1885\n",
      "Epoch 115/150\n",
      "2668/2668 [==============================] - 0s 107us/sample - loss: 0.2258 - val_loss: 0.1939\n",
      "Epoch 116/150\n",
      "2668/2668 [==============================] - 0s 111us/sample - loss: 0.2196 - val_loss: 0.1903\n",
      "Epoch 117/150\n",
      "2668/2668 [==============================] - 0s 110us/sample - loss: 0.2194 - val_loss: 0.1937\n",
      "Epoch 118/150\n",
      "2668/2668 [==============================] - 0s 108us/sample - loss: 0.2216 - val_loss: 0.1932\n",
      "Epoch 119/150\n",
      "2668/2668 [==============================] - 0s 112us/sample - loss: 0.2254 - val_loss: 0.2557\n",
      "Epoch 120/150\n",
      "2668/2668 [==============================] - 0s 109us/sample - loss: 0.2284 - val_loss: 0.1965\n",
      "Epoch 121/150\n",
      "2668/2668 [==============================] - 0s 111us/sample - loss: 0.2222 - val_loss: 0.1892\n",
      "Epoch 122/150\n",
      "2668/2668 [==============================] - 0s 114us/sample - loss: 0.2194 - val_loss: 0.2015\n",
      "Epoch 123/150\n",
      "2668/2668 [==============================] - 0s 106us/sample - loss: 0.2242 - val_loss: 0.1952\n",
      "Epoch 124/150\n",
      "2668/2668 [==============================] - 0s 109us/sample - loss: 0.2245 - val_loss: 0.2153\n",
      "Epoch 125/150\n",
      "2668/2668 [==============================] - 0s 110us/sample - loss: 0.2241 - val_loss: 0.1895\n",
      "Epoch 126/150\n",
      "2668/2668 [==============================] - 0s 114us/sample - loss: 0.2176 - val_loss: 0.1862\n",
      "Epoch 127/150\n",
      "2668/2668 [==============================] - 0s 116us/sample - loss: 0.2166 - val_loss: 0.1883\n",
      "Epoch 128/150\n",
      "2668/2668 [==============================] - 0s 113us/sample - loss: 0.2238 - val_loss: 0.1867\n",
      "Epoch 129/150\n",
      "2668/2668 [==============================] - 0s 113us/sample - loss: 0.2190 - val_loss: 0.2024\n",
      "Epoch 130/150\n",
      "2668/2668 [==============================] - 0s 108us/sample - loss: 0.2233 - val_loss: 0.2133\n",
      "Epoch 131/150\n",
      "2668/2668 [==============================] - 0s 109us/sample - loss: 0.2202 - val_loss: 0.2338\n",
      "Epoch 132/150\n",
      "2668/2668 [==============================] - 0s 110us/sample - loss: 0.2173 - val_loss: 0.1880\n",
      "Epoch 133/150\n",
      "2668/2668 [==============================] - 0s 108us/sample - loss: 0.2171 - val_loss: 0.2412\n",
      "Epoch 134/150\n",
      "2668/2668 [==============================] - 0s 112us/sample - loss: 0.2153 - val_loss: 0.1911\n",
      "Epoch 135/150\n",
      "2668/2668 [==============================] - 0s 108us/sample - loss: 0.2166 - val_loss: 0.1964\n",
      "Epoch 136/150\n",
      "2668/2668 [==============================] - 0s 113us/sample - loss: 0.2162 - val_loss: 0.1844\n",
      "Epoch 137/150\n",
      "2668/2668 [==============================] - 0s 112us/sample - loss: 0.2129 - val_loss: 0.2543\n",
      "Epoch 138/150\n",
      "2668/2668 [==============================] - 0s 110us/sample - loss: 0.2104 - val_loss: 0.1937\n",
      "Epoch 139/150\n",
      "2668/2668 [==============================] - 0s 107us/sample - loss: 0.2168 - val_loss: 0.2198\n",
      "Epoch 140/150\n",
      "2668/2668 [==============================] - 0s 105us/sample - loss: 0.2193 - val_loss: 0.1881\n",
      "Epoch 141/150\n",
      "2668/2668 [==============================] - 0s 113us/sample - loss: 0.2240 - val_loss: 0.1880\n",
      "Epoch 142/150\n",
      "2668/2668 [==============================] - 0s 109us/sample - loss: 0.2250 - val_loss: 0.2067\n",
      "Epoch 143/150\n",
      "2668/2668 [==============================] - 0s 107us/sample - loss: 0.2136 - val_loss: 0.1950\n",
      "Epoch 144/150\n",
      "2668/2668 [==============================] - 0s 108us/sample - loss: 0.2100 - val_loss: 0.1851\n",
      "Epoch 145/150\n",
      "2668/2668 [==============================] - 0s 109us/sample - loss: 0.2220 - val_loss: 0.2079\n",
      "Epoch 146/150\n",
      "2668/2668 [==============================] - 0s 113us/sample - loss: 0.2188 - val_loss: 0.1788\n",
      "Epoch 147/150\n",
      "2668/2668 [==============================] - 0s 110us/sample - loss: 0.2176 - val_loss: 0.2030\n",
      "Epoch 148/150\n",
      "2668/2668 [==============================] - 0s 110us/sample - loss: 0.2091 - val_loss: 0.1969\n",
      "Epoch 149/150\n",
      "2668/2668 [==============================] - 0s 111us/sample - loss: 0.2101 - val_loss: 0.1906\n",
      "Epoch 150/150\n",
      "2668/2668 [==============================] - 0s 111us/sample - loss: 0.2100 - val_loss: 0.1829\n"
     ]
    }
   ],
   "source": [
    "history=model.fit(x_train, y_train, epochs=150, batch_size=32, verbose=1, validation_data=[x_test, y_test])"
   ]
  },
  {
   "cell_type": "markdown",
   "metadata": {},
   "source": [
    "Plot predicted values over real concentrations and calculate $r^2$ score"
   ]
  },
  {
   "cell_type": "code",
   "execution_count": 12,
   "metadata": {},
   "outputs": [
    {
     "data": {
      "text/plain": [
       "[<matplotlib.lines.Line2D at 0x7f277aa8f2e8>]"
      ]
     },
     "execution_count": 12,
     "metadata": {},
     "output_type": "execute_result"
    },
    {
     "data": {
      "image/png": "[encoded data removed]",
      "text/plain": [
       "<Figure size 432x288 with 1 Axes>"
      ]
     },
     "metadata": {
      "needs_background": "light"
     },
     "output_type": "display_data"
    }
   ],
   "source": [
    "plt.scatter(y_test, model.predict(x_test), marker=\".\")\n",
    "plt.plot(y_test, y_test, \"--b\")"
   ]
  },
  {
   "cell_type": "code",
   "execution_count": 13,
   "metadata": {},
   "outputs": [
    {
     "data": {
      "text/plain": [
       "0.833301352790032"
      ]
     },
     "execution_count": 13,
     "metadata": {},
     "output_type": "execute_result"
    }
   ],
   "source": [
    "r2_score(y_test, model.predict(x_test))"
   ]
  },
  {
   "cell_type": "markdown",
   "metadata": {},
   "source": [
    "It follows from the picture that model predictions are pretty good for low concentrations of the target, but variance is growing rapidly with increasing concentration, which seems reasonable. Moreover, predictions for high concentrations saturate, which can reflect physical process of surface saturation (see original article)."
   ]
  }
 ],
 "metadata": {
  "kernelspec": {
   "display_name": "Python 3",
   "language": "python",
   "name": "python3"
  },
  "language_info": {
   "codemirror_mode": {
    "name": "ipython",
    "version": 3
   },
   "file_extension": ".py",
   "mimetype": "text/x-python",
   "name": "python",
   "nbconvert_exporter": "python",
   "pygments_lexer": "ipython3",
   "version": "3.7.3"
  }
 },
 "nbformat": 4,
 "nbformat_minor": 2
}
