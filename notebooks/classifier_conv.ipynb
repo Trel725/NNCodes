{
 "cells": [
  {
   "cell_type": "markdown",
   "metadata": {},
   "source": [
    "## Convolutional classifier\n",
    "This example shows how the convolutional classifiers are built in Tensorflow and how they can be used to classify spectra in the presence of background"
   ]
  },
  {
   "cell_type": "code",
   "execution_count": 1,
   "metadata": {},
   "outputs": [],
   "source": [
    "import tensorflow as tf\n",
    "from tensorflow.keras.layers import *\n",
    "from tensorflow.keras.models import Model\n",
    "import pandas as pd\n",
    "from sklearn.model_selection import train_test_split\n",
    "from tensorflow.keras.utils import to_categorical\n",
    "import matplotlib.pyplot as plt\n",
    "import numpy as np\n",
    "from custom_utils import *"
   ]
  },
  {
   "cell_type": "markdown",
   "metadata": {},
   "source": [
    "Enable memory growth for GPU, it is needed on some systems for convolution to work."
   ]
  },
  {
   "cell_type": "code",
   "execution_count": 2,
   "metadata": {},
   "outputs": [],
   "source": [
    "gpus = tf.config.experimental.list_physical_devices('GPU')\n",
    "if gpus:\n",
    "    for gpu in gpus:\n",
    "        tf.config.experimental.set_memory_growth(gpu, True)"
   ]
  },
  {
   "cell_type": "markdown",
   "metadata": {},
   "source": [
    "Read the sample dataset. It contains four classes of Raman spectra. Class labels are available in the last column."
   ]
  },
  {
   "cell_type": "code",
   "execution_count": 3,
   "metadata": {},
   "outputs": [],
   "source": [
    "data = pd.read_csv(\"../spectra.csv.gz\").values\n",
    "features = data[:,:-1] # take everything but last column\n",
    "labels = data[:,-1] # take last column"
   ]
  },
  {
   "cell_type": "markdown",
   "metadata": {},
   "source": [
    "Define an auxilary function to generate random polynomials, which will simulate fluorescent background"
   ]
  },
  {
   "cell_type": "code",
   "execution_count": 4,
   "metadata": {},
   "outputs": [],
   "source": [
    "def random_polynomial(x, a=-1, b=1, order=4):\n",
    "    x_coords = np.random.uniform(x[0], x[-1], size=order)\n",
    "    x_coords = np.concatenate([x_coords, [x[0], x[-1]]])\n",
    "    y_coords = np.random.uniform(a, b, size=order+2)\n",
    "    coefs = np.polyfit(x_coords, y_coords, deg=order)\n",
    "    return np.polyval(coefs, x)"
   ]
  },
  {
   "cell_type": "markdown",
   "metadata": {},
   "source": [
    "And add the background to the spectra"
   ]
  },
  {
   "cell_type": "code",
   "execution_count": 5,
   "metadata": {},
   "outputs": [],
   "source": [
    "x = np.arange(features.shape[1])\n",
    "for i in range(features.shape[0]):\n",
    "    features[i] += random_polynomial(x)"
   ]
  },
  {
   "cell_type": "markdown",
   "metadata": {},
   "source": [
    "Encode labels in one-hot encoding"
   ]
  },
  {
   "cell_type": "code",
   "execution_count": 6,
   "metadata": {},
   "outputs": [],
   "source": [
    "labels_oh = to_categorical(labels)"
   ]
  },
  {
   "cell_type": "markdown",
   "metadata": {},
   "source": [
    "Split the dataset into training and validation (here named test for brevity) subsets."
   ]
  },
  {
   "cell_type": "code",
   "execution_count": 7,
   "metadata": {},
   "outputs": [],
   "source": [
    "x_train, x_test, y_train, y_test = train_test_split(features, labels_oh, test_size=0.3)"
   ]
  },
  {
   "cell_type": "markdown",
   "metadata": {},
   "source": [
    "Plot couple of spectra to check that no error occured. Note that now they have backround."
   ]
  },
  {
   "cell_type": "code",
   "execution_count": 8,
   "metadata": {},
   "outputs": [
    {
     "data": {
      "text/plain": [
       "[<matplotlib.lines.Line2D at 0x7f2ad8f021d0>]"
      ]
     },
     "execution_count": 8,
     "metadata": {},
     "output_type": "execute_result"
    },
    {
     "data": {
      "image/png": "[encoded data removed]",
      "text/plain": [
       "<Figure size 432x288 with 1 Axes>"
      ]
     },
     "metadata": {
      "needs_background": "light"
     },
     "output_type": "display_data"
    }
   ],
   "source": [
    "plt.plot(x_train[0])\n",
    "plt.plot(x_test[0])\n"
   ]
  },
  {
   "cell_type": "markdown",
   "metadata": {},
   "source": [
    "Now define important constants"
   ]
  },
  {
   "cell_type": "code",
   "execution_count": 9,
   "metadata": {},
   "outputs": [],
   "source": [
    "inp_dim = x_train.shape[1]\n",
    "out_dim = y_train.shape[1]"
   ]
  },
  {
   "cell_type": "markdown",
   "metadata": {},
   "source": [
    "Firstly we will define classical feed-forward classified (as in previous example)"
   ]
  },
  {
   "cell_type": "code",
   "execution_count": 10,
   "metadata": {},
   "outputs": [],
   "source": [
    "inp = Input(shape=(inp_dim,))\n",
    "l = Dense(50, activation=\"relu\")(inp)\n",
    "l = Dense(25, activation=\"relu\")(l)\n",
    "out = Dense(out_dim, activation=\"softmax\")(l)"
   ]
  },
  {
   "cell_type": "markdown",
   "metadata": {},
   "source": []
  },
  {
   "cell_type": "markdown",
   "metadata": {},
   "source": [
    "Now create the classifier model, and compile it using crossentropy loss and adam optimizer."
   ]
  },
  {
   "cell_type": "code",
   "execution_count": 11,
   "metadata": {},
   "outputs": [
    {
     "name": "stdout",
     "output_type": "stream",
     "text": [
      "Model: \"model\"\n",
      "_________________________________________________________________\n",
      "Layer (type)                 Output Shape              Param #   \n",
      "=================================================================\n",
      "input_1 (InputLayer)         [(None, 2090)]            0         \n",
      "_________________________________________________________________\n",
      "dense (Dense)                (None, 50)                104550    \n",
      "_________________________________________________________________\n",
      "dense_1 (Dense)              (None, 25)                1275      \n",
      "_________________________________________________________________\n",
      "dense_2 (Dense)              (None, 4)                 104       \n",
      "=================================================================\n",
      "Total params: 105,929\n",
      "Trainable params: 105,929\n",
      "Non-trainable params: 0\n",
      "_________________________________________________________________\n"
     ]
    }
   ],
   "source": [
    "classifier = Model(inp, out)\n",
    "classifier.compile(loss=\"categorical_crossentropy\", optimizer=\"adam\", metrics=[\"accuracy\"])\n",
    "classifier.summary()"
   ]
  },
  {
   "cell_type": "markdown",
   "metadata": {},
   "source": [
    "Now when we have training and validation datasets and model, we can start training."
   ]
  },
  {
   "cell_type": "code",
   "execution_count": 12,
   "metadata": {},
   "outputs": [
    {
     "name": "stdout",
     "output_type": "stream",
     "text": [
      "Train on 971 samples, validate on 417 samples\n",
      "Epoch 1/200\n",
      "971/971 [==============================] - 0s 404us/sample - loss: 4.9892 - accuracy: 0.2564 - val_loss: 2.6084 - val_accuracy: 0.2902\n",
      "Epoch 2/200\n",
      "971/971 [==============================] - 0s 43us/sample - loss: 3.4689 - accuracy: 0.2770 - val_loss: 3.7708 - val_accuracy: 0.2806\n",
      "Epoch 3/200\n",
      "971/971 [==============================] - 0s 45us/sample - loss: 5.9218 - accuracy: 0.3223 - val_loss: 7.2104 - val_accuracy: 0.2782\n",
      "Epoch 4/200\n",
      "971/971 [==============================] - 0s 43us/sample - loss: 5.5982 - accuracy: 0.3069 - val_loss: 4.3122 - val_accuracy: 0.2806\n",
      "Epoch 5/200\n",
      "971/971 [==============================] - 0s 42us/sample - loss: 4.2616 - accuracy: 0.3141 - val_loss: 3.2048 - val_accuracy: 0.3693\n",
      "Epoch 6/200\n",
      "971/971 [==============================] - 0s 42us/sample - loss: 4.9554 - accuracy: 0.3471 - val_loss: 4.3035 - val_accuracy: 0.2926\n",
      "Epoch 7/200\n",
      "971/971 [==============================] - 0s 44us/sample - loss: 6.6382 - accuracy: 0.3491 - val_loss: 7.7877 - val_accuracy: 0.2806\n",
      "Epoch 8/200\n",
      "971/971 [==============================] - 0s 43us/sample - loss: 6.4567 - accuracy: 0.3234 - val_loss: 6.7621 - val_accuracy: 0.3333\n",
      "Epoch 9/200\n",
      "971/971 [==============================] - 0s 43us/sample - loss: 5.6343 - accuracy: 0.3265 - val_loss: 5.0288 - val_accuracy: 0.2854\n",
      "Epoch 10/200\n",
      "971/971 [==============================] - 0s 43us/sample - loss: 5.7936 - accuracy: 0.3234 - val_loss: 7.1807 - val_accuracy: 0.2686\n",
      "Epoch 11/200\n",
      "971/971 [==============================] - 0s 44us/sample - loss: 5.5334 - accuracy: 0.3254 - val_loss: 7.2254 - val_accuracy: 0.2782\n",
      "Epoch 12/200\n",
      "971/971 [==============================] - 0s 44us/sample - loss: 4.0313 - accuracy: 0.3326 - val_loss: 2.7912 - val_accuracy: 0.2854\n",
      "Epoch 13/200\n",
      "971/971 [==============================] - 0s 45us/sample - loss: 2.8819 - accuracy: 0.3481 - val_loss: 6.5631 - val_accuracy: 0.3285\n",
      "Epoch 14/200\n",
      "971/971 [==============================] - 0s 44us/sample - loss: 6.1790 - accuracy: 0.3708 - val_loss: 7.2095 - val_accuracy: 0.3765\n",
      "Epoch 15/200\n",
      "971/971 [==============================] - 0s 46us/sample - loss: 4.3068 - accuracy: 0.3512 - val_loss: 3.0847 - val_accuracy: 0.3525\n",
      "Epoch 16/200\n",
      "971/971 [==============================] - 0s 46us/sample - loss: 3.4721 - accuracy: 0.3780 - val_loss: 6.6823 - val_accuracy: 0.2974\n",
      "Epoch 17/200\n",
      "971/971 [==============================] - 0s 42us/sample - loss: 6.4801 - accuracy: 0.3429 - val_loss: 8.2812 - val_accuracy: 0.3429\n",
      "Epoch 18/200\n",
      "971/971 [==============================] - 0s 46us/sample - loss: 6.0392 - accuracy: 0.3800 - val_loss: 6.2861 - val_accuracy: 0.2806\n",
      "Epoch 19/200\n",
      "971/971 [==============================] - 0s 44us/sample - loss: 3.6249 - accuracy: 0.3677 - val_loss: 3.7373 - val_accuracy: 0.3141\n",
      "Epoch 20/200\n",
      "971/971 [==============================] - 0s 42us/sample - loss: 2.8043 - accuracy: 0.3769 - val_loss: 2.2874 - val_accuracy: 0.3357\n",
      "Epoch 21/200\n",
      "971/971 [==============================] - 0s 45us/sample - loss: 4.3102 - accuracy: 0.3460 - val_loss: 7.5095 - val_accuracy: 0.3381\n",
      "Epoch 22/200\n",
      "971/971 [==============================] - 0s 44us/sample - loss: 5.0903 - accuracy: 0.3718 - val_loss: 5.3254 - val_accuracy: 0.3165\n",
      "Epoch 23/200\n",
      "971/971 [==============================] - 0s 44us/sample - loss: 3.9071 - accuracy: 0.3759 - val_loss: 3.5590 - val_accuracy: 0.3357\n",
      "Epoch 24/200\n",
      "971/971 [==============================] - 0s 46us/sample - loss: 2.4843 - accuracy: 0.3728 - val_loss: 2.8777 - val_accuracy: 0.3237\n",
      "Epoch 25/200\n",
      "971/971 [==============================] - 0s 45us/sample - loss: 1.9122 - accuracy: 0.4109 - val_loss: 2.5019 - val_accuracy: 0.3453\n",
      "Epoch 26/200\n",
      "971/971 [==============================] - 0s 44us/sample - loss: 3.4471 - accuracy: 0.4099 - val_loss: 6.0562 - val_accuracy: 0.3094\n",
      "Epoch 27/200\n",
      "971/971 [==============================] - 0s 45us/sample - loss: 3.9174 - accuracy: 0.4192 - val_loss: 3.9973 - val_accuracy: 0.3717\n",
      "Epoch 28/200\n",
      "971/971 [==============================] - 0s 46us/sample - loss: 3.0475 - accuracy: 0.3666 - val_loss: 2.0085 - val_accuracy: 0.3693\n",
      "Epoch 29/200\n",
      "971/971 [==============================] - 0s 45us/sample - loss: 3.0448 - accuracy: 0.3522 - val_loss: 4.5350 - val_accuracy: 0.3933\n",
      "Epoch 30/200\n",
      "971/971 [==============================] - 0s 43us/sample - loss: 4.5920 - accuracy: 0.4171 - val_loss: 5.2281 - val_accuracy: 0.3309\n",
      "Epoch 31/200\n",
      "971/971 [==============================] - 0s 43us/sample - loss: 4.2807 - accuracy: 0.3728 - val_loss: 8.6849 - val_accuracy: 0.3765\n",
      "Epoch 32/200\n",
      "971/971 [==============================] - 0s 46us/sample - loss: 5.6183 - accuracy: 0.3749 - val_loss: 8.3258 - val_accuracy: 0.3357\n",
      "Epoch 33/200\n",
      "971/971 [==============================] - 0s 45us/sample - loss: 3.2994 - accuracy: 0.3666 - val_loss: 3.5534 - val_accuracy: 0.3693\n",
      "Epoch 34/200\n",
      "971/971 [==============================] - 0s 43us/sample - loss: 2.7327 - accuracy: 0.3625 - val_loss: 3.9849 - val_accuracy: 0.3501\n",
      "Epoch 35/200\n",
      "971/971 [==============================] - 0s 44us/sample - loss: 5.5855 - accuracy: 0.4078 - val_loss: 8.1249 - val_accuracy: 0.3621\n",
      "Epoch 36/200\n",
      "971/971 [==============================] - 0s 44us/sample - loss: 5.2798 - accuracy: 0.3883 - val_loss: 2.9220 - val_accuracy: 0.4388\n",
      "Epoch 37/200\n",
      "971/971 [==============================] - 0s 45us/sample - loss: 9.8790 - accuracy: 0.4264 - val_loss: 8.9916 - val_accuracy: 0.3837\n",
      "Epoch 38/200\n",
      "971/971 [==============================] - 0s 43us/sample - loss: 5.9290 - accuracy: 0.3883 - val_loss: 5.6439 - val_accuracy: 0.3357\n",
      "Epoch 39/200\n",
      "971/971 [==============================] - 0s 43us/sample - loss: 3.1094 - accuracy: 0.3934 - val_loss: 3.0746 - val_accuracy: 0.3837\n",
      "Epoch 40/200\n",
      "971/971 [==============================] - 0s 46us/sample - loss: 4.3985 - accuracy: 0.4037 - val_loss: 6.6988 - val_accuracy: 0.3477\n",
      "Epoch 41/200\n",
      "971/971 [==============================] - 0s 46us/sample - loss: 5.1486 - accuracy: 0.3656 - val_loss: 5.7083 - val_accuracy: 0.3549\n",
      "Epoch 42/200\n",
      "971/971 [==============================] - 0s 45us/sample - loss: 4.8707 - accuracy: 0.3491 - val_loss: 4.6339 - val_accuracy: 0.3693\n",
      "Epoch 43/200\n",
      "971/971 [==============================] - 0s 45us/sample - loss: 3.3769 - accuracy: 0.3790 - val_loss: 3.3937 - val_accuracy: 0.4029\n",
      "Epoch 44/200\n",
      "971/971 [==============================] - 0s 43us/sample - loss: 2.5407 - accuracy: 0.4027 - val_loss: 2.9243 - val_accuracy: 0.3549\n",
      "Epoch 45/200\n",
      "971/971 [==============================] - 0s 43us/sample - loss: 2.7697 - accuracy: 0.3852 - val_loss: 5.8324 - val_accuracy: 0.3837\n",
      "Epoch 46/200\n",
      "971/971 [==============================] - 0s 44us/sample - loss: 5.1701 - accuracy: 0.4181 - val_loss: 6.9094 - val_accuracy: 0.3741\n",
      "Epoch 47/200\n",
      "971/971 [==============================] - 0s 44us/sample - loss: 4.7098 - accuracy: 0.3996 - val_loss: 5.3921 - val_accuracy: 0.3549\n",
      "Epoch 48/200\n",
      "971/971 [==============================] - 0s 45us/sample - loss: 3.6274 - accuracy: 0.3955 - val_loss: 3.4924 - val_accuracy: 0.3933\n",
      "Epoch 49/200\n",
      "971/971 [==============================] - 0s 43us/sample - loss: 2.3815 - accuracy: 0.4058 - val_loss: 2.6252 - val_accuracy: 0.3789\n",
      "Epoch 50/200\n",
      "971/971 [==============================] - 0s 44us/sample - loss: 2.7057 - accuracy: 0.3759 - val_loss: 2.4586 - val_accuracy: 0.3165\n",
      "Epoch 51/200\n",
      "971/971 [==============================] - 0s 43us/sample - loss: 2.1025 - accuracy: 0.4109 - val_loss: 2.3066 - val_accuracy: 0.3837\n",
      "Epoch 52/200\n",
      "971/971 [==============================] - 0s 44us/sample - loss: 1.7803 - accuracy: 0.4398 - val_loss: 2.0704 - val_accuracy: 0.4221\n",
      "Epoch 53/200\n",
      "971/971 [==============================] - 0s 46us/sample - loss: 1.6629 - accuracy: 0.4459 - val_loss: 2.0994 - val_accuracy: 0.3765\n",
      "Epoch 54/200\n",
      "971/971 [==============================] - 0s 47us/sample - loss: 1.8402 - accuracy: 0.4840 - val_loss: 2.2787 - val_accuracy: 0.4173\n",
      "Epoch 55/200\n",
      "971/971 [==============================] - 0s 44us/sample - loss: 1.7749 - accuracy: 0.4830 - val_loss: 2.0890 - val_accuracy: 0.4077\n",
      "Epoch 56/200\n"
     ]
    },
    {
     "name": "stdout",
     "output_type": "stream",
     "text": [
      "971/971 [==============================] - 0s 46us/sample - loss: 3.1150 - accuracy: 0.4840 - val_loss: 3.5938 - val_accuracy: 0.4149\n",
      "Epoch 57/200\n",
      "971/971 [==============================] - 0s 46us/sample - loss: 2.7753 - accuracy: 0.4470 - val_loss: 3.2963 - val_accuracy: 0.4245\n",
      "Epoch 58/200\n",
      "971/971 [==============================] - 0s 43us/sample - loss: 2.5230 - accuracy: 0.4933 - val_loss: 2.5318 - val_accuracy: 0.3861\n",
      "Epoch 59/200\n",
      "971/971 [==============================] - 0s 43us/sample - loss: 3.2499 - accuracy: 0.4573 - val_loss: 4.1305 - val_accuracy: 0.4341\n",
      "Epoch 60/200\n",
      "971/971 [==============================] - 0s 42us/sample - loss: 3.5101 - accuracy: 0.4830 - val_loss: 4.1146 - val_accuracy: 0.3861\n",
      "Epoch 61/200\n",
      "971/971 [==============================] - 0s 43us/sample - loss: 2.7200 - accuracy: 0.4706 - val_loss: 2.8670 - val_accuracy: 0.4221\n",
      "Epoch 62/200\n",
      "971/971 [==============================] - 0s 44us/sample - loss: 1.8976 - accuracy: 0.4686 - val_loss: 1.8488 - val_accuracy: 0.4101\n",
      "Epoch 63/200\n",
      "971/971 [==============================] - 0s 45us/sample - loss: 1.5291 - accuracy: 0.4912 - val_loss: 2.0302 - val_accuracy: 0.4317\n",
      "Epoch 64/200\n",
      "971/971 [==============================] - 0s 44us/sample - loss: 2.1010 - accuracy: 0.5180 - val_loss: 3.2796 - val_accuracy: 0.4628\n",
      "Epoch 65/200\n",
      "971/971 [==============================] - 0s 44us/sample - loss: 2.5073 - accuracy: 0.5201 - val_loss: 2.8308 - val_accuracy: 0.4005\n",
      "Epoch 66/200\n",
      "971/971 [==============================] - 0s 43us/sample - loss: 1.9612 - accuracy: 0.5036 - val_loss: 2.2183 - val_accuracy: 0.4460\n",
      "Epoch 67/200\n",
      "971/971 [==============================] - 0s 43us/sample - loss: 1.8756 - accuracy: 0.4902 - val_loss: 1.8667 - val_accuracy: 0.4508\n",
      "Epoch 68/200\n",
      "971/971 [==============================] - 0s 45us/sample - loss: 2.1404 - accuracy: 0.4912 - val_loss: 1.6174 - val_accuracy: 0.4988\n",
      "Epoch 69/200\n",
      "971/971 [==============================] - 0s 45us/sample - loss: 1.7835 - accuracy: 0.4552 - val_loss: 2.0701 - val_accuracy: 0.4532\n",
      "Epoch 70/200\n",
      "971/971 [==============================] - 0s 44us/sample - loss: 1.5729 - accuracy: 0.4974 - val_loss: 2.4811 - val_accuracy: 0.4676\n",
      "Epoch 71/200\n",
      "971/971 [==============================] - 0s 43us/sample - loss: 2.4424 - accuracy: 0.5355 - val_loss: 3.2624 - val_accuracy: 0.4748\n",
      "Epoch 72/200\n",
      "971/971 [==============================] - 0s 44us/sample - loss: 2.4133 - accuracy: 0.5242 - val_loss: 2.4203 - val_accuracy: 0.5036\n",
      "Epoch 73/200\n",
      "971/971 [==============================] - 0s 42us/sample - loss: 1.8811 - accuracy: 0.5263 - val_loss: 1.9902 - val_accuracy: 0.4844\n",
      "Epoch 74/200\n",
      "971/971 [==============================] - 0s 43us/sample - loss: 1.8165 - accuracy: 0.5046 - val_loss: 1.6494 - val_accuracy: 0.4508\n",
      "Epoch 75/200\n",
      "971/971 [==============================] - 0s 45us/sample - loss: 1.7013 - accuracy: 0.5108 - val_loss: 1.6862 - val_accuracy: 0.5012\n",
      "Epoch 76/200\n",
      "971/971 [==============================] - 0s 44us/sample - loss: 1.7460 - accuracy: 0.5489 - val_loss: 1.5249 - val_accuracy: 0.4892\n",
      "Epoch 77/200\n",
      "971/971 [==============================] - 0s 43us/sample - loss: 1.3645 - accuracy: 0.5407 - val_loss: 1.6113 - val_accuracy: 0.5132\n",
      "Epoch 78/200\n",
      "971/971 [==============================] - 0s 44us/sample - loss: 2.0658 - accuracy: 0.5129 - val_loss: 2.8037 - val_accuracy: 0.4676\n",
      "Epoch 79/200\n",
      "971/971 [==============================] - 0s 46us/sample - loss: 2.3054 - accuracy: 0.4851 - val_loss: 2.4560 - val_accuracy: 0.4868\n",
      "Epoch 80/200\n",
      "971/971 [==============================] - 0s 45us/sample - loss: 2.0062 - accuracy: 0.4943 - val_loss: 2.1239 - val_accuracy: 0.4508\n",
      "Epoch 81/200\n",
      "971/971 [==============================] - 0s 47us/sample - loss: 1.7727 - accuracy: 0.5304 - val_loss: 2.4970 - val_accuracy: 0.4508\n",
      "Epoch 82/200\n",
      "971/971 [==============================] - 0s 45us/sample - loss: 2.0292 - accuracy: 0.5242 - val_loss: 1.8729 - val_accuracy: 0.4820\n",
      "Epoch 83/200\n",
      "971/971 [==============================] - 0s 44us/sample - loss: 1.5468 - accuracy: 0.5438 - val_loss: 1.5694 - val_accuracy: 0.5180\n",
      "Epoch 84/200\n",
      "971/971 [==============================] - 0s 44us/sample - loss: 1.4305 - accuracy: 0.5530 - val_loss: 1.3546 - val_accuracy: 0.5468\n",
      "Epoch 85/200\n",
      "971/971 [==============================] - 0s 45us/sample - loss: 1.4293 - accuracy: 0.5726 - val_loss: 2.1038 - val_accuracy: 0.5324\n",
      "Epoch 86/200\n",
      "971/971 [==============================] - 0s 42us/sample - loss: 2.0877 - accuracy: 0.5572 - val_loss: 2.7123 - val_accuracy: 0.5228\n",
      "Epoch 87/200\n",
      "971/971 [==============================] - 0s 42us/sample - loss: 2.4568 - accuracy: 0.5489 - val_loss: 3.2889 - val_accuracy: 0.5156\n",
      "Epoch 88/200\n",
      "971/971 [==============================] - 0s 42us/sample - loss: 2.9452 - accuracy: 0.5561 - val_loss: 3.3254 - val_accuracy: 0.4628\n",
      "Epoch 89/200\n",
      "971/971 [==============================] - 0s 45us/sample - loss: 4.0510 - accuracy: 0.4470 - val_loss: 6.3242 - val_accuracy: 0.4173\n",
      "Epoch 90/200\n",
      "971/971 [==============================] - 0s 42us/sample - loss: 4.6906 - accuracy: 0.4861 - val_loss: 3.5638 - val_accuracy: 0.4197\n",
      "Epoch 91/200\n",
      "971/971 [==============================] - 0s 44us/sample - loss: 2.2191 - accuracy: 0.5221 - val_loss: 2.5403 - val_accuracy: 0.4916\n",
      "Epoch 92/200\n",
      "971/971 [==============================] - 0s 43us/sample - loss: 3.0340 - accuracy: 0.5283 - val_loss: 5.7987 - val_accuracy: 0.4700\n",
      "Epoch 93/200\n",
      "971/971 [==============================] - 0s 44us/sample - loss: 4.5880 - accuracy: 0.5201 - val_loss: 4.6390 - val_accuracy: 0.4460\n",
      "Epoch 94/200\n",
      "971/971 [==============================] - 0s 42us/sample - loss: 3.3729 - accuracy: 0.5263 - val_loss: 2.7023 - val_accuracy: 0.4460\n",
      "Epoch 95/200\n",
      "971/971 [==============================] - 0s 44us/sample - loss: 2.5843 - accuracy: 0.4840 - val_loss: 2.2433 - val_accuracy: 0.4628\n",
      "Epoch 96/200\n",
      "971/971 [==============================] - 0s 42us/sample - loss: 3.6355 - accuracy: 0.4645 - val_loss: 4.1133 - val_accuracy: 0.4269\n",
      "Epoch 97/200\n",
      "971/971 [==============================] - 0s 45us/sample - loss: 2.9690 - accuracy: 0.4964 - val_loss: 2.8054 - val_accuracy: 0.5180\n",
      "Epoch 98/200\n",
      "971/971 [==============================] - 0s 44us/sample - loss: 2.1767 - accuracy: 0.5396 - val_loss: 2.0327 - val_accuracy: 0.5276\n",
      "Epoch 99/200\n",
      "971/971 [==============================] - 0s 44us/sample - loss: 1.9429 - accuracy: 0.5345 - val_loss: 1.4910 - val_accuracy: 0.5132\n",
      "Epoch 100/200\n",
      "971/971 [==============================] - 0s 43us/sample - loss: 1.3145 - accuracy: 0.5396 - val_loss: 1.7238 - val_accuracy: 0.5540\n",
      "Epoch 101/200\n",
      "971/971 [==============================] - 0s 44us/sample - loss: 1.4261 - accuracy: 0.5664 - val_loss: 1.4765 - val_accuracy: 0.5564\n",
      "Epoch 102/200\n",
      "971/971 [==============================] - 0s 46us/sample - loss: 1.8650 - accuracy: 0.5582 - val_loss: 2.3321 - val_accuracy: 0.5468\n",
      "Epoch 103/200\n",
      "971/971 [==============================] - 0s 43us/sample - loss: 2.8406 - accuracy: 0.5757 - val_loss: 3.7704 - val_accuracy: 0.5276\n",
      "Epoch 104/200\n",
      "971/971 [==============================] - 0s 44us/sample - loss: 4.2594 - accuracy: 0.5458 - val_loss: 4.7095 - val_accuracy: 0.5204\n",
      "Epoch 105/200\n",
      "971/971 [==============================] - 0s 43us/sample - loss: 3.5863 - accuracy: 0.5448 - val_loss: 3.2349 - val_accuracy: 0.5468\n",
      "Epoch 106/200\n",
      "971/971 [==============================] - 0s 44us/sample - loss: 2.5981 - accuracy: 0.5572 - val_loss: 2.2420 - val_accuracy: 0.5132\n",
      "Epoch 107/200\n",
      "971/971 [==============================] - 0s 45us/sample - loss: 1.9193 - accuracy: 0.5623 - val_loss: 1.6102 - val_accuracy: 0.5827\n",
      "Epoch 108/200\n",
      "971/971 [==============================] - 0s 46us/sample - loss: 1.6651 - accuracy: 0.5881 - val_loss: 1.5570 - val_accuracy: 0.5108\n",
      "Epoch 109/200\n",
      "971/971 [==============================] - 0s 44us/sample - loss: 3.5530 - accuracy: 0.5335 - val_loss: 2.2419 - val_accuracy: 0.5516\n",
      "Epoch 110/200\n",
      "971/971 [==============================] - 0s 43us/sample - loss: 1.9076 - accuracy: 0.5479 - val_loss: 2.2221 - val_accuracy: 0.5492\n",
      "Epoch 111/200\n",
      "971/971 [==============================] - 0s 46us/sample - loss: 2.0893 - accuracy: 0.5778 - val_loss: 1.8318 - val_accuracy: 0.5228\n"
     ]
    },
    {
     "name": "stdout",
     "output_type": "stream",
     "text": [
      "Epoch 112/200\n",
      "971/971 [==============================] - 0s 45us/sample - loss: 1.8710 - accuracy: 0.5561 - val_loss: 1.6949 - val_accuracy: 0.5779\n",
      "Epoch 113/200\n",
      "971/971 [==============================] - 0s 43us/sample - loss: 1.4720 - accuracy: 0.6251 - val_loss: 1.7081 - val_accuracy: 0.5635\n",
      "Epoch 114/200\n",
      "971/971 [==============================] - 0s 44us/sample - loss: 1.7022 - accuracy: 0.6210 - val_loss: 1.5863 - val_accuracy: 0.5899\n",
      "Epoch 115/200\n",
      "971/971 [==============================] - 0s 42us/sample - loss: 1.4836 - accuracy: 0.6169 - val_loss: 1.4295 - val_accuracy: 0.5947\n",
      "Epoch 116/200\n",
      "971/971 [==============================] - 0s 43us/sample - loss: 1.5105 - accuracy: 0.5963 - val_loss: 1.4957 - val_accuracy: 0.5875\n",
      "Epoch 117/200\n",
      "971/971 [==============================] - 0s 43us/sample - loss: 1.2598 - accuracy: 0.6210 - val_loss: 1.6005 - val_accuracy: 0.5444\n",
      "Epoch 118/200\n",
      "971/971 [==============================] - 0s 44us/sample - loss: 1.4924 - accuracy: 0.6045 - val_loss: 1.6540 - val_accuracy: 0.5588\n",
      "Epoch 119/200\n",
      "971/971 [==============================] - 0s 42us/sample - loss: 1.6035 - accuracy: 0.5798 - val_loss: 1.5943 - val_accuracy: 0.5707\n",
      "Epoch 120/200\n",
      "971/971 [==============================] - 0s 45us/sample - loss: 1.3673 - accuracy: 0.6148 - val_loss: 1.2693 - val_accuracy: 0.6331\n",
      "Epoch 121/200\n",
      "971/971 [==============================] - 0s 44us/sample - loss: 1.0573 - accuracy: 0.6694 - val_loss: 1.2063 - val_accuracy: 0.6379\n",
      "Epoch 122/200\n",
      "971/971 [==============================] - 0s 43us/sample - loss: 1.1149 - accuracy: 0.6601 - val_loss: 1.3493 - val_accuracy: 0.5923\n",
      "Epoch 123/200\n",
      "971/971 [==============================] - 0s 45us/sample - loss: 1.4451 - accuracy: 0.5881 - val_loss: 2.0567 - val_accuracy: 0.5180\n",
      "Epoch 124/200\n",
      "971/971 [==============================] - 0s 46us/sample - loss: 1.7466 - accuracy: 0.5726 - val_loss: 1.6648 - val_accuracy: 0.4916\n",
      "Epoch 125/200\n",
      "971/971 [==============================] - 0s 43us/sample - loss: 1.4729 - accuracy: 0.5973 - val_loss: 2.2918 - val_accuracy: 0.5899\n",
      "Epoch 126/200\n",
      "971/971 [==============================] - 0s 44us/sample - loss: 2.1761 - accuracy: 0.5798 - val_loss: 2.1427 - val_accuracy: 0.5564\n",
      "Epoch 127/200\n",
      "971/971 [==============================] - 0s 43us/sample - loss: 2.0244 - accuracy: 0.6056 - val_loss: 2.8155 - val_accuracy: 0.5851\n",
      "Epoch 128/200\n",
      "971/971 [==============================] - 0s 44us/sample - loss: 3.3674 - accuracy: 0.5798 - val_loss: 4.3324 - val_accuracy: 0.5396\n",
      "Epoch 129/200\n",
      "971/971 [==============================] - 0s 45us/sample - loss: 2.9561 - accuracy: 0.5901 - val_loss: 3.0943 - val_accuracy: 0.5995\n",
      "Epoch 130/200\n",
      "971/971 [==============================] - 0s 43us/sample - loss: 2.2629 - accuracy: 0.6179 - val_loss: 2.2178 - val_accuracy: 0.6403\n",
      "Epoch 131/200\n",
      "971/971 [==============================] - 0s 44us/sample - loss: 2.0361 - accuracy: 0.6395 - val_loss: 2.0482 - val_accuracy: 0.5827\n",
      "Epoch 132/200\n",
      "971/971 [==============================] - 0s 46us/sample - loss: 3.7978 - accuracy: 0.4954 - val_loss: 2.1789 - val_accuracy: 0.5084\n",
      "Epoch 133/200\n",
      "971/971 [==============================] - 0s 45us/sample - loss: 2.5425 - accuracy: 0.4892 - val_loss: 2.2672 - val_accuracy: 0.4916\n",
      "Epoch 134/200\n",
      "971/971 [==============================] - 0s 46us/sample - loss: 2.2185 - accuracy: 0.5026 - val_loss: 1.8019 - val_accuracy: 0.5228\n",
      "Epoch 135/200\n",
      "971/971 [==============================] - 0s 45us/sample - loss: 2.0155 - accuracy: 0.5366 - val_loss: 1.8844 - val_accuracy: 0.5276\n",
      "Epoch 136/200\n",
      "971/971 [==============================] - 0s 46us/sample - loss: 1.6184 - accuracy: 0.5633 - val_loss: 1.3977 - val_accuracy: 0.5635\n",
      "Epoch 137/200\n",
      "971/971 [==============================] - 0s 43us/sample - loss: 1.7572 - accuracy: 0.5901 - val_loss: 2.5012 - val_accuracy: 0.5012\n",
      "Epoch 138/200\n",
      "971/971 [==============================] - 0s 45us/sample - loss: 2.4463 - accuracy: 0.5263 - val_loss: 2.4528 - val_accuracy: 0.5036\n",
      "Epoch 139/200\n",
      "971/971 [==============================] - 0s 43us/sample - loss: 1.9634 - accuracy: 0.5386 - val_loss: 1.9551 - val_accuracy: 0.5420\n",
      "Epoch 140/200\n",
      "971/971 [==============================] - 0s 43us/sample - loss: 2.4196 - accuracy: 0.5602 - val_loss: 2.2018 - val_accuracy: 0.5396\n",
      "Epoch 141/200\n",
      "971/971 [==============================] - 0s 42us/sample - loss: 2.4479 - accuracy: 0.5623 - val_loss: 3.2005 - val_accuracy: 0.5492\n",
      "Epoch 142/200\n",
      "971/971 [==============================] - 0s 43us/sample - loss: 2.6760 - accuracy: 0.5675 - val_loss: 2.5738 - val_accuracy: 0.5540\n",
      "Epoch 143/200\n",
      "971/971 [==============================] - 0s 44us/sample - loss: 2.0347 - accuracy: 0.5819 - val_loss: 2.0116 - val_accuracy: 0.5755\n",
      "Epoch 144/200\n",
      "971/971 [==============================] - 0s 45us/sample - loss: 1.6042 - accuracy: 0.6056 - val_loss: 1.9034 - val_accuracy: 0.5827\n",
      "Epoch 145/200\n",
      "971/971 [==============================] - 0s 44us/sample - loss: 1.6453 - accuracy: 0.6014 - val_loss: 1.8625 - val_accuracy: 0.6043\n",
      "Epoch 146/200\n",
      "971/971 [==============================] - 0s 46us/sample - loss: 1.7273 - accuracy: 0.6097 - val_loss: 1.7860 - val_accuracy: 0.5827\n",
      "Epoch 147/200\n",
      "971/971 [==============================] - 0s 43us/sample - loss: 2.0117 - accuracy: 0.6066 - val_loss: 1.8002 - val_accuracy: 0.5947\n",
      "Epoch 148/200\n",
      "971/971 [==============================] - 0s 45us/sample - loss: 1.7856 - accuracy: 0.6612 - val_loss: 1.5702 - val_accuracy: 0.6139\n",
      "Epoch 149/200\n",
      "971/971 [==============================] - 0s 45us/sample - loss: 1.4339 - accuracy: 0.6622 - val_loss: 1.3240 - val_accuracy: 0.6259\n",
      "Epoch 150/200\n",
      "971/971 [==============================] - 0s 44us/sample - loss: 1.1982 - accuracy: 0.6746 - val_loss: 1.1664 - val_accuracy: 0.6403\n",
      "Epoch 151/200\n",
      "971/971 [==============================] - 0s 44us/sample - loss: 1.1785 - accuracy: 0.6725 - val_loss: 1.1466 - val_accuracy: 0.6571\n",
      "Epoch 152/200\n",
      "971/971 [==============================] - 0s 44us/sample - loss: 1.2435 - accuracy: 0.6807 - val_loss: 1.2110 - val_accuracy: 0.6331\n",
      "Epoch 153/200\n",
      "971/971 [==============================] - 0s 44us/sample - loss: 1.0402 - accuracy: 0.6931 - val_loss: 1.1443 - val_accuracy: 0.6595\n",
      "Epoch 154/200\n",
      "971/971 [==============================] - 0s 43us/sample - loss: 2.1725 - accuracy: 0.5973 - val_loss: 1.7721 - val_accuracy: 0.5755\n",
      "Epoch 155/200\n",
      "971/971 [==============================] - 0s 44us/sample - loss: 1.6457 - accuracy: 0.5850 - val_loss: 1.3797 - val_accuracy: 0.5851\n",
      "Epoch 156/200\n",
      "971/971 [==============================] - 0s 42us/sample - loss: 2.0258 - accuracy: 0.5922 - val_loss: 2.4462 - val_accuracy: 0.5827\n",
      "Epoch 157/200\n",
      "971/971 [==============================] - 0s 44us/sample - loss: 1.9433 - accuracy: 0.6087 - val_loss: 2.1225 - val_accuracy: 0.5564\n",
      "Epoch 158/200\n",
      "971/971 [==============================] - 0s 44us/sample - loss: 1.4945 - accuracy: 0.6447 - val_loss: 1.8114 - val_accuracy: 0.5731\n",
      "Epoch 159/200\n",
      "971/971 [==============================] - 0s 44us/sample - loss: 1.3781 - accuracy: 0.6262 - val_loss: 1.7075 - val_accuracy: 0.5947\n",
      "Epoch 160/200\n",
      "971/971 [==============================] - 0s 44us/sample - loss: 1.2238 - accuracy: 0.6529 - val_loss: 1.5851 - val_accuracy: 0.6115\n",
      "Epoch 161/200\n",
      "971/971 [==============================] - 0s 44us/sample - loss: 1.0489 - accuracy: 0.7024 - val_loss: 1.3810 - val_accuracy: 0.6547\n",
      "Epoch 162/200\n",
      "971/971 [==============================] - 0s 44us/sample - loss: 1.0176 - accuracy: 0.7116 - val_loss: 1.2190 - val_accuracy: 0.6619\n",
      "Epoch 163/200\n",
      "971/971 [==============================] - 0s 44us/sample - loss: 1.0258 - accuracy: 0.7116 - val_loss: 1.3767 - val_accuracy: 0.6115\n",
      "Epoch 164/200\n",
      "971/971 [==============================] - 0s 44us/sample - loss: 1.7725 - accuracy: 0.6035 - val_loss: 1.6708 - val_accuracy: 0.5899\n",
      "Epoch 165/200\n",
      "971/971 [==============================] - 0s 44us/sample - loss: 1.3187 - accuracy: 0.6777 - val_loss: 1.1612 - val_accuracy: 0.6811\n",
      "Epoch 166/200\n",
      "971/971 [==============================] - 0s 45us/sample - loss: 0.8836 - accuracy: 0.7168 - val_loss: 1.1166 - val_accuracy: 0.6763\n",
      "Epoch 167/200\n"
     ]
    },
    {
     "name": "stdout",
     "output_type": "stream",
     "text": [
      "971/971 [==============================] - 0s 44us/sample - loss: 1.0468 - accuracy: 0.6921 - val_loss: 1.4405 - val_accuracy: 0.6331\n",
      "Epoch 168/200\n",
      "971/971 [==============================] - 0s 44us/sample - loss: 1.0015 - accuracy: 0.7343 - val_loss: 0.9807 - val_accuracy: 0.7338\n",
      "Epoch 169/200\n",
      "971/971 [==============================] - 0s 44us/sample - loss: 0.7494 - accuracy: 0.7858 - val_loss: 0.9631 - val_accuracy: 0.7554\n",
      "Epoch 170/200\n",
      "971/971 [==============================] - 0s 43us/sample - loss: 0.7348 - accuracy: 0.7837 - val_loss: 0.9172 - val_accuracy: 0.7146\n",
      "Epoch 171/200\n",
      "971/971 [==============================] - 0s 42us/sample - loss: 0.7320 - accuracy: 0.7683 - val_loss: 0.8584 - val_accuracy: 0.7122\n",
      "Epoch 172/200\n",
      "971/971 [==============================] - 0s 43us/sample - loss: 0.7537 - accuracy: 0.7755 - val_loss: 0.9553 - val_accuracy: 0.7554\n",
      "Epoch 173/200\n",
      "971/971 [==============================] - 0s 44us/sample - loss: 0.6615 - accuracy: 0.8146 - val_loss: 0.8286 - val_accuracy: 0.7266\n",
      "Epoch 174/200\n",
      "971/971 [==============================] - 0s 42us/sample - loss: 0.8138 - accuracy: 0.7683 - val_loss: 1.1554 - val_accuracy: 0.7410\n",
      "Epoch 175/200\n",
      "971/971 [==============================] - 0s 45us/sample - loss: 0.8293 - accuracy: 0.7673 - val_loss: 1.1111 - val_accuracy: 0.7290\n",
      "Epoch 176/200\n",
      "971/971 [==============================] - 0s 45us/sample - loss: 0.7602 - accuracy: 0.7497 - val_loss: 1.0937 - val_accuracy: 0.7194\n",
      "Epoch 177/200\n",
      "971/971 [==============================] - 0s 44us/sample - loss: 0.9067 - accuracy: 0.7693 - val_loss: 1.0039 - val_accuracy: 0.7482\n",
      "Epoch 178/200\n",
      "971/971 [==============================] - 0s 44us/sample - loss: 0.7214 - accuracy: 0.7878 - val_loss: 0.8708 - val_accuracy: 0.7842\n",
      "Epoch 179/200\n",
      "971/971 [==============================] - 0s 43us/sample - loss: 0.7874 - accuracy: 0.7755 - val_loss: 1.0615 - val_accuracy: 0.7266\n",
      "Epoch 180/200\n",
      "971/971 [==============================] - 0s 43us/sample - loss: 0.8639 - accuracy: 0.7539 - val_loss: 1.0035 - val_accuracy: 0.7434\n",
      "Epoch 181/200\n",
      "971/971 [==============================] - 0s 45us/sample - loss: 0.7857 - accuracy: 0.7961 - val_loss: 1.0479 - val_accuracy: 0.7170\n",
      "Epoch 182/200\n",
      "971/971 [==============================] - 0s 43us/sample - loss: 0.8437 - accuracy: 0.7878 - val_loss: 0.8970 - val_accuracy: 0.7242\n",
      "Epoch 183/200\n",
      "971/971 [==============================] - 0s 44us/sample - loss: 0.7882 - accuracy: 0.7796 - val_loss: 0.9528 - val_accuracy: 0.7458\n",
      "Epoch 184/200\n",
      "971/971 [==============================] - 0s 43us/sample - loss: 0.8555 - accuracy: 0.7559 - val_loss: 0.9380 - val_accuracy: 0.6954\n",
      "Epoch 185/200\n",
      "971/971 [==============================] - 0s 44us/sample - loss: 1.5631 - accuracy: 0.6715 - val_loss: 1.7945 - val_accuracy: 0.6499\n",
      "Epoch 186/200\n",
      "971/971 [==============================] - 0s 44us/sample - loss: 1.3040 - accuracy: 0.7003 - val_loss: 1.1726 - val_accuracy: 0.7314\n",
      "Epoch 187/200\n",
      "971/971 [==============================] - 0s 44us/sample - loss: 1.0553 - accuracy: 0.7662 - val_loss: 1.0730 - val_accuracy: 0.7434\n",
      "Epoch 188/200\n",
      "971/971 [==============================] - 0s 46us/sample - loss: 1.0484 - accuracy: 0.7775 - val_loss: 1.1170 - val_accuracy: 0.7314\n",
      "Epoch 189/200\n",
      "971/971 [==============================] - 0s 43us/sample - loss: 1.0743 - accuracy: 0.7528 - val_loss: 0.8912 - val_accuracy: 0.7410\n",
      "Epoch 190/200\n",
      "971/971 [==============================] - 0s 42us/sample - loss: 0.8521 - accuracy: 0.7796 - val_loss: 0.7423 - val_accuracy: 0.7938\n",
      "Epoch 191/200\n",
      "971/971 [==============================] - 0s 43us/sample - loss: 0.8017 - accuracy: 0.7745 - val_loss: 0.9589 - val_accuracy: 0.7074\n",
      "Epoch 192/200\n",
      "971/971 [==============================] - 0s 43us/sample - loss: 1.2439 - accuracy: 0.7219 - val_loss: 0.8960 - val_accuracy: 0.7098\n",
      "Epoch 193/200\n",
      "971/971 [==============================] - 0s 45us/sample - loss: 0.7283 - accuracy: 0.7765 - val_loss: 1.0906 - val_accuracy: 0.7530\n",
      "Epoch 194/200\n",
      "971/971 [==============================] - 0s 43us/sample - loss: 0.6542 - accuracy: 0.8095 - val_loss: 0.9528 - val_accuracy: 0.7530\n",
      "Epoch 195/200\n",
      "971/971 [==============================] - 0s 44us/sample - loss: 1.5881 - accuracy: 0.7600 - val_loss: 1.8254 - val_accuracy: 0.7122\n",
      "Epoch 196/200\n",
      "971/971 [==============================] - 0s 45us/sample - loss: 1.6329 - accuracy: 0.7158 - val_loss: 1.8224 - val_accuracy: 0.6259\n",
      "Epoch 197/200\n",
      "971/971 [==============================] - 0s 44us/sample - loss: 7.0465 - accuracy: 0.5953 - val_loss: 5.3853 - val_accuracy: 0.5659\n",
      "Epoch 198/200\n",
      "971/971 [==============================] - 0s 44us/sample - loss: 2.6761 - accuracy: 0.6189 - val_loss: 1.6139 - val_accuracy: 0.5947\n",
      "Epoch 199/200\n",
      "971/971 [==============================] - 0s 43us/sample - loss: 1.5005 - accuracy: 0.6498 - val_loss: 1.2486 - val_accuracy: 0.6523\n",
      "Epoch 200/200\n",
      "971/971 [==============================] - 0s 39us/sample - loss: 1.2211 - accuracy: 0.7291 - val_loss: 1.0849 - val_accuracy: 0.6691\n"
     ]
    }
   ],
   "source": [
    "train_history = classifier.fit(x=x_train, y=y_train, batch_size=64, epochs=200, validation_data=[x_test, y_test])"
   ]
  },
  {
   "cell_type": "markdown",
   "metadata": {},
   "source": [
    "Feed-forward classifier has significant difficulties with classifying spectra with background. Draw the loss curves"
   ]
  },
  {
   "cell_type": "code",
   "execution_count": 13,
   "metadata": {},
   "outputs": [
    {
     "data": {
      "text/plain": [
       "<matplotlib.legend.Legend at 0x7f2abc00abe0>"
      ]
     },
     "execution_count": 13,
     "metadata": {},
     "output_type": "execute_result"
    },
    {
     "data": {
      "image/png": "[encoded data removed]",
      "text/plain": [
       "<Figure size 432x288 with 1 Axes>"
      ]
     },
     "metadata": {
      "needs_background": "light"
     },
     "output_type": "display_data"
    }
   ],
   "source": [
    "plt.plot(train_history.history['loss'], label=\"Loss\")\n",
    "plt.plot(train_history.history['val_loss'], label=\"Validation loss\")\n",
    "plt.plot(train_history.history['accuracy'], label=\"Accuracy\")\n",
    "plt.plot(train_history.history['val_accuracy'], label=\"Validation accuracy\")\n",
    "plt.xlabel(\"Epoch\")\n",
    "plt.legend()"
   ]
  },
  {
   "cell_type": "markdown",
   "metadata": {},
   "source": [
    "Now add convolutional layers to the classifier. General structure is very similar, but now input must be 2-dimensional, i.e. 1 dimension of data, 1 dimension of channels."
   ]
  },
  {
   "cell_type": "code",
   "execution_count": 14,
   "metadata": {},
   "outputs": [],
   "source": [
    "inp = Input(shape=(inp_dim, 1))\n",
    "# Number of output channels, size of kernel\n",
    "l = Conv1D(1, 20, activation=\"relu\")(inp)\n",
    "l = Conv1D(1, 40, activation=\"relu\")(l)\n",
    "l = Conv1D(1, 80, activation=\"relu\")(l)\n",
    "# after convolutional layers data must be flattened, i.e. \n",
    "# converted to 1D vector\n",
    "l = Flatten()(l)\n",
    "l = Dense(50, activation=\"relu\")(l)\n",
    "l = Dense(25, activation=\"relu\")(l)\n",
    "\n",
    "out = Dense(out_dim, activation=\"softmax\")(l)"
   ]
  },
  {
   "cell_type": "code",
   "execution_count": 15,
   "metadata": {},
   "outputs": [
    {
     "name": "stdout",
     "output_type": "stream",
     "text": [
      "Model: \"model_1\"\n",
      "_________________________________________________________________\n",
      "Layer (type)                 Output Shape              Param #   \n",
      "=================================================================\n",
      "input_2 (InputLayer)         [(None, 2090, 1)]         0         \n",
      "_________________________________________________________________\n",
      "conv1d (Conv1D)              (None, 2071, 1)           21        \n",
      "_________________________________________________________________\n",
      "conv1d_1 (Conv1D)            (None, 2032, 1)           41        \n",
      "_________________________________________________________________\n",
      "conv1d_2 (Conv1D)            (None, 1953, 1)           81        \n",
      "_________________________________________________________________\n",
      "flatten (Flatten)            (None, 1953)              0         \n",
      "_________________________________________________________________\n",
      "dense_3 (Dense)              (None, 50)                97700     \n",
      "_________________________________________________________________\n",
      "dense_4 (Dense)              (None, 25)                1275      \n",
      "_________________________________________________________________\n",
      "dense_5 (Dense)              (None, 4)                 104       \n",
      "=================================================================\n",
      "Total params: 99,222\n",
      "Trainable params: 99,222\n",
      "Non-trainable params: 0\n",
      "_________________________________________________________________\n"
     ]
    }
   ],
   "source": [
    "conv_classifier = Model(inp, out)\n",
    "conv_classifier.compile(loss=\"categorical_crossentropy\", optimizer=\"nadam\", metrics=[\"accuracy\"])\n",
    "conv_classifier.summary()"
   ]
  },
  {
   "cell_type": "markdown",
   "metadata": {},
   "source": [
    "We now must add one more dimension to the training data (channel dimension). In numpy it is done by simply indexing array with np.newaxis"
   ]
  },
  {
   "cell_type": "code",
   "execution_count": 16,
   "metadata": {},
   "outputs": [],
   "source": [
    "x_train_chan = x_train[:,:,np.newaxis]\n",
    "x_test_chan = x_test[:,:,np.newaxis]"
   ]
  },
  {
   "cell_type": "markdown",
   "metadata": {},
   "source": [
    "And fit it on the same data"
   ]
  },
  {
   "cell_type": "code",
   "execution_count": 17,
   "metadata": {},
   "outputs": [
    {
     "name": "stdout",
     "output_type": "stream",
     "text": [
      "Train on 971 samples, validate on 417 samples\n",
      "Epoch 1/100\n",
      "971/971 [==============================] - 2s 2ms/sample - loss: 1.3845 - accuracy: 0.3213 - val_loss: 1.3804 - val_accuracy: 0.3765\n",
      "Epoch 2/100\n",
      "971/971 [==============================] - 0s 59us/sample - loss: 1.3624 - accuracy: 0.3605 - val_loss: 1.3187 - val_accuracy: 0.3957\n",
      "Epoch 3/100\n",
      "971/971 [==============================] - 0s 58us/sample - loss: 1.2592 - accuracy: 0.4439 - val_loss: 1.2512 - val_accuracy: 0.4532\n",
      "Epoch 4/100\n",
      "971/971 [==============================] - 0s 57us/sample - loss: 1.1898 - accuracy: 0.5098 - val_loss: 1.0733 - val_accuracy: 0.5755\n",
      "Epoch 5/100\n",
      "971/971 [==============================] - 0s 55us/sample - loss: 0.9549 - accuracy: 0.6241 - val_loss: 0.9359 - val_accuracy: 0.7410\n",
      "Epoch 6/100\n",
      "971/971 [==============================] - 0s 55us/sample - loss: 0.8535 - accuracy: 0.6797 - val_loss: 1.0682 - val_accuracy: 0.5851\n",
      "Epoch 7/100\n",
      "971/971 [==============================] - 0s 57us/sample - loss: 0.9716 - accuracy: 0.6272 - val_loss: 0.8501 - val_accuracy: 0.6811\n",
      "Epoch 8/100\n",
      "971/971 [==============================] - 0s 54us/sample - loss: 0.7716 - accuracy: 0.6962 - val_loss: 0.6281 - val_accuracy: 0.7746\n",
      "Epoch 9/100\n",
      "971/971 [==============================] - 0s 56us/sample - loss: 0.5587 - accuracy: 0.7765 - val_loss: 0.4388 - val_accuracy: 0.8417\n",
      "Epoch 10/100\n",
      "971/971 [==============================] - 0s 54us/sample - loss: 0.4045 - accuracy: 0.8476 - val_loss: 0.3569 - val_accuracy: 0.9017\n",
      "Epoch 11/100\n",
      "971/971 [==============================] - 0s 58us/sample - loss: 0.2830 - accuracy: 0.9083 - val_loss: 0.1102 - val_accuracy: 0.9688\n",
      "Epoch 12/100\n",
      "971/971 [==============================] - 0s 54us/sample - loss: 0.0513 - accuracy: 0.9815 - val_loss: 0.0049 - val_accuracy: 1.0000\n",
      "Epoch 13/100\n",
      "971/971 [==============================] - 0s 56us/sample - loss: 0.0102 - accuracy: 0.9979 - val_loss: 0.0043 - val_accuracy: 1.0000\n",
      "Epoch 14/100\n",
      "971/971 [==============================] - 0s 56us/sample - loss: 0.0130 - accuracy: 0.9979 - val_loss: 0.0038 - val_accuracy: 0.9976\n",
      "Epoch 15/100\n",
      "971/971 [==============================] - 0s 53us/sample - loss: 0.0051 - accuracy: 0.9979 - val_loss: 0.0017 - val_accuracy: 1.0000\n",
      "Epoch 16/100\n",
      "971/971 [==============================] - 0s 55us/sample - loss: 0.0037 - accuracy: 0.9990 - val_loss: 0.0022 - val_accuracy: 1.0000\n",
      "Epoch 17/100\n",
      "971/971 [==============================] - 0s 54us/sample - loss: 0.0030 - accuracy: 1.0000 - val_loss: 0.0014 - val_accuracy: 1.0000\n",
      "Epoch 18/100\n",
      "971/971 [==============================] - 0s 55us/sample - loss: 0.0024 - accuracy: 1.0000 - val_loss: 0.0014 - val_accuracy: 1.0000\n",
      "Epoch 19/100\n",
      "971/971 [==============================] - 0s 55us/sample - loss: 0.0020 - accuracy: 1.0000 - val_loss: 0.0010 - val_accuracy: 1.0000\n",
      "Epoch 20/100\n",
      "971/971 [==============================] - 0s 56us/sample - loss: 0.0018 - accuracy: 1.0000 - val_loss: 9.0731e-04 - val_accuracy: 1.0000\n",
      "Epoch 21/100\n",
      "971/971 [==============================] - 0s 54us/sample - loss: 0.0016 - accuracy: 1.0000 - val_loss: 9.0515e-04 - val_accuracy: 1.0000\n",
      "Epoch 22/100\n",
      "971/971 [==============================] - 0s 53us/sample - loss: 0.0015 - accuracy: 1.0000 - val_loss: 0.0010 - val_accuracy: 1.0000\n",
      "Epoch 23/100\n",
      "971/971 [==============================] - 0s 55us/sample - loss: 0.0014 - accuracy: 1.0000 - val_loss: 8.9776e-04 - val_accuracy: 1.0000\n",
      "Epoch 24/100\n",
      "971/971 [==============================] - 0s 54us/sample - loss: 0.0013 - accuracy: 1.0000 - val_loss: 6.6230e-04 - val_accuracy: 1.0000\n",
      "Epoch 25/100\n",
      "971/971 [==============================] - 0s 56us/sample - loss: 0.0011 - accuracy: 1.0000 - val_loss: 6.1660e-04 - val_accuracy: 1.0000\n",
      "Epoch 26/100\n",
      "971/971 [==============================] - 0s 53us/sample - loss: 0.0011 - accuracy: 1.0000 - val_loss: 5.7238e-04 - val_accuracy: 1.0000\n",
      "Epoch 27/100\n",
      "971/971 [==============================] - 0s 54us/sample - loss: 9.2760e-04 - accuracy: 1.0000 - val_loss: 5.8052e-04 - val_accuracy: 1.0000\n",
      "Epoch 28/100\n",
      "971/971 [==============================] - 0s 55us/sample - loss: 8.9143e-04 - accuracy: 1.0000 - val_loss: 8.0520e-04 - val_accuracy: 1.0000\n",
      "Epoch 29/100\n",
      "971/971 [==============================] - 0s 57us/sample - loss: 8.9658e-04 - accuracy: 1.0000 - val_loss: 7.6152e-04 - val_accuracy: 1.0000\n",
      "Epoch 30/100\n",
      "971/971 [==============================] - 0s 55us/sample - loss: 8.6883e-04 - accuracy: 1.0000 - val_loss: 7.7923e-04 - val_accuracy: 1.0000\n",
      "Epoch 31/100\n",
      "971/971 [==============================] - 0s 57us/sample - loss: 7.5874e-04 - accuracy: 1.0000 - val_loss: 4.4720e-04 - val_accuracy: 1.0000\n",
      "Epoch 32/100\n",
      "971/971 [==============================] - 0s 56us/sample - loss: 6.7773e-04 - accuracy: 1.0000 - val_loss: 5.1083e-04 - val_accuracy: 1.0000\n",
      "Epoch 33/100\n",
      "971/971 [==============================] - 0s 55us/sample - loss: 7.0523e-04 - accuracy: 1.0000 - val_loss: 5.1710e-04 - val_accuracy: 1.0000\n",
      "Epoch 34/100\n",
      "971/971 [==============================] - 0s 55us/sample - loss: 6.2503e-04 - accuracy: 1.0000 - val_loss: 3.7125e-04 - val_accuracy: 1.0000\n",
      "Epoch 35/100\n",
      "971/971 [==============================] - 0s 55us/sample - loss: 5.7039e-04 - accuracy: 1.0000 - val_loss: 3.5703e-04 - val_accuracy: 1.0000\n",
      "Epoch 36/100\n",
      "971/971 [==============================] - 0s 57us/sample - loss: 5.4187e-04 - accuracy: 1.0000 - val_loss: 3.9689e-04 - val_accuracy: 1.0000\n",
      "Epoch 37/100\n",
      "971/971 [==============================] - 0s 51us/sample - loss: 5.0089e-04 - accuracy: 1.0000 - val_loss: 3.3254e-04 - val_accuracy: 1.0000\n",
      "Epoch 38/100\n",
      "971/971 [==============================] - 0s 55us/sample - loss: 5.0762e-04 - accuracy: 1.0000 - val_loss: 3.2896e-04 - val_accuracy: 1.0000\n",
      "Epoch 39/100\n",
      "971/971 [==============================] - 0s 55us/sample - loss: 4.6365e-04 - accuracy: 1.0000 - val_loss: 3.2806e-04 - val_accuracy: 1.0000\n",
      "Epoch 40/100\n",
      "971/971 [==============================] - 0s 55us/sample - loss: 4.4538e-04 - accuracy: 1.0000 - val_loss: 3.0207e-04 - val_accuracy: 1.0000\n",
      "Epoch 41/100\n",
      "971/971 [==============================] - 0s 53us/sample - loss: 4.3631e-04 - accuracy: 1.0000 - val_loss: 4.7381e-04 - val_accuracy: 1.0000\n",
      "Epoch 42/100\n",
      "971/971 [==============================] - 0s 51us/sample - loss: 4.5032e-04 - accuracy: 1.0000 - val_loss: 3.6328e-04 - val_accuracy: 1.0000\n",
      "Epoch 43/100\n",
      "971/971 [==============================] - 0s 56us/sample - loss: 4.8065e-04 - accuracy: 1.0000 - val_loss: 4.7896e-04 - val_accuracy: 1.0000\n",
      "Epoch 44/100\n",
      "971/971 [==============================] - 0s 55us/sample - loss: 3.9881e-04 - accuracy: 1.0000 - val_loss: 3.0115e-04 - val_accuracy: 1.0000\n",
      "Epoch 45/100\n",
      "971/971 [==============================] - 0s 54us/sample - loss: 3.7738e-04 - accuracy: 1.0000 - val_loss: 2.5629e-04 - val_accuracy: 1.0000\n",
      "Epoch 46/100\n",
      "971/971 [==============================] - 0s 54us/sample - loss: 0.0085 - accuracy: 0.9979 - val_loss: 0.0130 - val_accuracy: 0.9976\n",
      "Epoch 47/100\n",
      "971/971 [==============================] - 0s 56us/sample - loss: 0.0059 - accuracy: 0.9990 - val_loss: 0.0013 - val_accuracy: 1.0000\n",
      "Epoch 48/100\n",
      "971/971 [==============================] - 0s 58us/sample - loss: 5.2532e-04 - accuracy: 1.0000 - val_loss: 2.5984e-04 - val_accuracy: 1.0000\n",
      "Epoch 49/100\n",
      "971/971 [==============================] - 0s 54us/sample - loss: 3.5601e-04 - accuracy: 1.0000 - val_loss: 2.2368e-04 - val_accuracy: 1.0000\n",
      "Epoch 50/100\n",
      "971/971 [==============================] - 0s 55us/sample - loss: 3.3116e-04 - accuracy: 1.0000 - val_loss: 2.0707e-04 - val_accuracy: 1.0000\n",
      "Epoch 51/100\n",
      "971/971 [==============================] - 0s 54us/sample - loss: 2.9913e-04 - accuracy: 1.0000 - val_loss: 2.1004e-04 - val_accuracy: 1.0000\n",
      "Epoch 52/100\n",
      "971/971 [==============================] - 0s 52us/sample - loss: 2.9104e-04 - accuracy: 1.0000 - val_loss: 1.9120e-04 - val_accuracy: 1.0000\n",
      "Epoch 53/100\n",
      "971/971 [==============================] - 0s 53us/sample - loss: 2.7182e-04 - accuracy: 1.0000 - val_loss: 1.8393e-04 - val_accuracy: 1.0000\n",
      "Epoch 54/100\n",
      "971/971 [==============================] - 0s 53us/sample - loss: 2.6338e-04 - accuracy: 1.0000 - val_loss: 1.8238e-04 - val_accuracy: 1.0000\n"
     ]
    },
    {
     "name": "stdout",
     "output_type": "stream",
     "text": [
      "Epoch 55/100\n",
      "971/971 [==============================] - 0s 54us/sample - loss: 2.5281e-04 - accuracy: 1.0000 - val_loss: 1.7729e-04 - val_accuracy: 1.0000\n",
      "Epoch 56/100\n",
      "971/971 [==============================] - 0s 55us/sample - loss: 2.4566e-04 - accuracy: 1.0000 - val_loss: 1.7055e-04 - val_accuracy: 1.0000\n",
      "Epoch 57/100\n",
      "971/971 [==============================] - 0s 53us/sample - loss: 2.2956e-04 - accuracy: 1.0000 - val_loss: 1.6423e-04 - val_accuracy: 1.0000\n",
      "Epoch 58/100\n",
      "971/971 [==============================] - 0s 55us/sample - loss: 2.3485e-04 - accuracy: 1.0000 - val_loss: 1.6854e-04 - val_accuracy: 1.0000\n",
      "Epoch 59/100\n",
      "971/971 [==============================] - 0s 56us/sample - loss: 2.1503e-04 - accuracy: 1.0000 - val_loss: 1.9679e-04 - val_accuracy: 1.0000\n",
      "Epoch 60/100\n",
      "971/971 [==============================] - 0s 54us/sample - loss: 2.1677e-04 - accuracy: 1.0000 - val_loss: 1.6423e-04 - val_accuracy: 1.0000\n",
      "Epoch 61/100\n",
      "971/971 [==============================] - 0s 56us/sample - loss: 2.1440e-04 - accuracy: 1.0000 - val_loss: 1.6423e-04 - val_accuracy: 1.0000\n",
      "Epoch 62/100\n",
      "971/971 [==============================] - 0s 55us/sample - loss: 1.9372e-04 - accuracy: 1.0000 - val_loss: 1.4852e-04 - val_accuracy: 1.0000\n",
      "Epoch 63/100\n",
      "971/971 [==============================] - 0s 54us/sample - loss: 1.8676e-04 - accuracy: 1.0000 - val_loss: 1.4770e-04 - val_accuracy: 1.0000\n",
      "Epoch 64/100\n",
      "971/971 [==============================] - 0s 54us/sample - loss: 1.7884e-04 - accuracy: 1.0000 - val_loss: 1.4438e-04 - val_accuracy: 1.0000\n",
      "Epoch 65/100\n",
      "971/971 [==============================] - 0s 55us/sample - loss: 1.7248e-04 - accuracy: 1.0000 - val_loss: 1.5364e-04 - val_accuracy: 1.0000\n",
      "Epoch 66/100\n",
      "971/971 [==============================] - 0s 56us/sample - loss: 3.1197e-04 - accuracy: 1.0000 - val_loss: 1.4364e-04 - val_accuracy: 1.0000\n",
      "Epoch 67/100\n",
      "971/971 [==============================] - 0s 55us/sample - loss: 2.0154e-04 - accuracy: 1.0000 - val_loss: 1.3841e-04 - val_accuracy: 1.0000\n",
      "Epoch 68/100\n",
      "971/971 [==============================] - 0s 55us/sample - loss: 2.0171e-04 - accuracy: 1.0000 - val_loss: 1.4331e-04 - val_accuracy: 1.0000\n",
      "Epoch 69/100\n",
      "971/971 [==============================] - 0s 55us/sample - loss: 1.9349e-04 - accuracy: 1.0000 - val_loss: 1.3517e-04 - val_accuracy: 1.0000\n",
      "Epoch 70/100\n",
      "971/971 [==============================] - 0s 56us/sample - loss: 1.8824e-04 - accuracy: 1.0000 - val_loss: 1.3994e-04 - val_accuracy: 1.0000\n",
      "Epoch 71/100\n",
      "971/971 [==============================] - 0s 55us/sample - loss: 1.8259e-04 - accuracy: 1.0000 - val_loss: 1.3202e-04 - val_accuracy: 1.0000\n",
      "Epoch 72/100\n",
      "971/971 [==============================] - 0s 55us/sample - loss: 1.7527e-04 - accuracy: 1.0000 - val_loss: 1.2473e-04 - val_accuracy: 1.0000\n",
      "Epoch 73/100\n",
      "971/971 [==============================] - 0s 57us/sample - loss: 1.6997e-04 - accuracy: 1.0000 - val_loss: 1.2399e-04 - val_accuracy: 1.0000\n",
      "Epoch 74/100\n",
      "971/971 [==============================] - 0s 54us/sample - loss: 1.6318e-04 - accuracy: 1.0000 - val_loss: 1.3299e-04 - val_accuracy: 1.0000\n",
      "Epoch 75/100\n",
      "971/971 [==============================] - 0s 55us/sample - loss: 1.6516e-04 - accuracy: 1.0000 - val_loss: 1.1756e-04 - val_accuracy: 1.0000\n",
      "Epoch 76/100\n",
      "971/971 [==============================] - 0s 55us/sample - loss: 1.5486e-04 - accuracy: 1.0000 - val_loss: 1.1500e-04 - val_accuracy: 1.0000\n",
      "Epoch 77/100\n",
      "971/971 [==============================] - 0s 57us/sample - loss: 1.5021e-04 - accuracy: 1.0000 - val_loss: 1.2341e-04 - val_accuracy: 1.0000\n",
      "Epoch 78/100\n",
      "971/971 [==============================] - 0s 52us/sample - loss: 1.5701e-04 - accuracy: 1.0000 - val_loss: 1.3674e-04 - val_accuracy: 1.0000\n",
      "Epoch 79/100\n",
      "971/971 [==============================] - 0s 54us/sample - loss: 1.6148e-04 - accuracy: 1.0000 - val_loss: 1.0008e-04 - val_accuracy: 1.0000\n",
      "Epoch 80/100\n",
      "971/971 [==============================] - 0s 54us/sample - loss: 1.3668e-04 - accuracy: 1.0000 - val_loss: 1.0754e-04 - val_accuracy: 1.0000\n",
      "Epoch 81/100\n",
      "971/971 [==============================] - 0s 55us/sample - loss: 1.3231e-04 - accuracy: 1.0000 - val_loss: 1.0414e-04 - val_accuracy: 1.0000\n",
      "Epoch 82/100\n",
      "971/971 [==============================] - 0s 58us/sample - loss: 1.2991e-04 - accuracy: 1.0000 - val_loss: 1.1000e-04 - val_accuracy: 1.0000\n",
      "Epoch 83/100\n",
      "971/971 [==============================] - 0s 54us/sample - loss: 1.2818e-04 - accuracy: 1.0000 - val_loss: 1.0122e-04 - val_accuracy: 1.0000\n",
      "Epoch 84/100\n",
      "971/971 [==============================] - 0s 56us/sample - loss: 1.2179e-04 - accuracy: 1.0000 - val_loss: 1.0081e-04 - val_accuracy: 1.0000\n",
      "Epoch 85/100\n",
      "971/971 [==============================] - 0s 53us/sample - loss: 1.1923e-04 - accuracy: 1.0000 - val_loss: 9.6941e-05 - val_accuracy: 1.0000\n",
      "Epoch 86/100\n",
      "971/971 [==============================] - 0s 54us/sample - loss: 1.1807e-04 - accuracy: 1.0000 - val_loss: 9.8899e-05 - val_accuracy: 1.0000\n",
      "Epoch 87/100\n",
      "971/971 [==============================] - 0s 56us/sample - loss: 1.1483e-04 - accuracy: 1.0000 - val_loss: 9.9025e-05 - val_accuracy: 1.0000\n",
      "Epoch 88/100\n",
      "971/971 [==============================] - 0s 57us/sample - loss: 1.1261e-04 - accuracy: 1.0000 - val_loss: 9.0178e-05 - val_accuracy: 1.0000\n",
      "Epoch 89/100\n",
      "971/971 [==============================] - 0s 54us/sample - loss: 1.1283e-04 - accuracy: 1.0000 - val_loss: 1.3000e-04 - val_accuracy: 1.0000\n",
      "Epoch 90/100\n",
      "971/971 [==============================] - 0s 53us/sample - loss: 1.3119e-04 - accuracy: 1.0000 - val_loss: 1.3467e-04 - val_accuracy: 1.0000\n",
      "Epoch 91/100\n",
      "971/971 [==============================] - 0s 52us/sample - loss: 1.1489e-04 - accuracy: 1.0000 - val_loss: 9.9195e-05 - val_accuracy: 1.0000\n",
      "Epoch 92/100\n",
      "971/971 [==============================] - 0s 55us/sample - loss: 1.0190e-04 - accuracy: 1.0000 - val_loss: 8.8324e-05 - val_accuracy: 1.0000\n",
      "Epoch 93/100\n",
      "971/971 [==============================] - 0s 53us/sample - loss: 9.7161e-05 - accuracy: 1.0000 - val_loss: 9.2428e-05 - val_accuracy: 1.0000\n",
      "Epoch 94/100\n",
      "971/971 [==============================] - 0s 55us/sample - loss: 9.5267e-05 - accuracy: 1.0000 - val_loss: 8.8358e-05 - val_accuracy: 1.0000\n",
      "Epoch 95/100\n",
      "971/971 [==============================] - 0s 56us/sample - loss: 9.2630e-05 - accuracy: 1.0000 - val_loss: 9.2722e-05 - val_accuracy: 1.0000\n",
      "Epoch 96/100\n",
      "971/971 [==============================] - 0s 53us/sample - loss: 8.9974e-05 - accuracy: 1.0000 - val_loss: 8.8976e-05 - val_accuracy: 1.0000\n",
      "Epoch 97/100\n",
      "971/971 [==============================] - 0s 55us/sample - loss: 8.9572e-05 - accuracy: 1.0000 - val_loss: 9.0016e-05 - val_accuracy: 1.0000\n",
      "Epoch 98/100\n",
      "971/971 [==============================] - 0s 54us/sample - loss: 8.6986e-05 - accuracy: 1.0000 - val_loss: 9.2116e-05 - val_accuracy: 1.0000\n",
      "Epoch 99/100\n",
      "971/971 [==============================] - 0s 51us/sample - loss: 8.4424e-05 - accuracy: 1.0000 - val_loss: 9.4343e-05 - val_accuracy: 1.0000\n",
      "Epoch 100/100\n",
      "971/971 [==============================] - 0s 50us/sample - loss: 8.8381e-05 - accuracy: 1.0000 - val_loss: 1.6215e-04 - val_accuracy: 1.0000\n"
     ]
    }
   ],
   "source": [
    "train_history = conv_classifier.fit(x=x_train_chan, y=y_train, batch_size=128, epochs=100, validation_data=[x_test_chan, y_test])"
   ]
  },
  {
   "cell_type": "markdown",
   "metadata": {},
   "source": [
    "This model converges almost 100% accuracy, which is demonstrates advantages of the convolutional classifiers."
   ]
  },
  {
   "cell_type": "code",
   "execution_count": 18,
   "metadata": {},
   "outputs": [
    {
     "data": {
      "text/plain": [
       "<matplotlib.legend.Legend at 0x7f2aa01709e8>"
      ]
     },
     "execution_count": 18,
     "metadata": {},
     "output_type": "execute_result"
    },
    {
     "data": {
      "image/png": "[encoded data removed]",
      "text/plain": [
       "<Figure size 432x288 with 1 Axes>"
      ]
     },
     "metadata": {
      "needs_background": "light"
     },
     "output_type": "display_data"
    }
   ],
   "source": [
    "plt.plot(train_history.history['loss'], label=\"Loss\")\n",
    "plt.plot(train_history.history['val_loss'], label=\"Validation loss\")\n",
    "plt.plot(train_history.history['accuracy'], label=\"Accuracy\")\n",
    "plt.plot(train_history.history['val_accuracy'], label=\"Validation accuracy\")\n",
    "plt.xlabel(\"Epoch\")\n",
    "plt.legend()"
   ]
  }
 ],
 "metadata": {
  "kernelspec": {
   "display_name": "Python 3",
   "language": "python",
   "name": "python3"
  },
  "language_info": {
   "codemirror_mode": {
    "name": "ipython",
    "version": 3
   },
   "file_extension": ".py",
   "mimetype": "text/x-python",
   "name": "python",
   "nbconvert_exporter": "python",
   "pygments_lexer": "ipython3",
   "version": "3.7.3"
  }
 },
 "nbformat": 4,
 "nbformat_minor": 2
}
